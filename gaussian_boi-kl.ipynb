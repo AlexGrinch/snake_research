{
 "cells": [
  {
   "cell_type": "code",
   "execution_count": 1,
   "metadata": {},
   "outputs": [
    {
     "name": "stderr",
     "output_type": "stream",
     "text": [
      "/root/miniconda3/envs/tf/lib/python3.5/site-packages/h5py/__init__.py:36: FutureWarning: Conversion of the second argument of issubdtype from `float` to `np.floating` is deprecated. In future, it will be treated as `np.float64 == np.dtype(float).type`.\n",
      "  from ._conv import register_converters as _register_converters\n"
     ]
    }
   ],
   "source": [
    "import os\n",
    "import time\n",
    "import random\n",
    "import numpy as np\n",
    "\n",
    "import tensorflow as tf\n",
    "import tensorflow.contrib.layers as layers\n",
    "\n",
    "import gym\n",
    "from gym import spaces\n",
    "from PIL import Image\n",
    "from collections import deque, namedtuple\n",
    "\n",
    "from IPython import display\n",
    "import matplotlib.pyplot as plt\n",
    "%matplotlib inline"
   ]
  },
  {
   "cell_type": "code",
   "execution_count": 2,
   "metadata": {},
   "outputs": [],
   "source": [
    "from environments import Snake\n",
    "from new_agents import *"
   ]
  },
  {
   "cell_type": "code",
   "execution_count": 3,
   "metadata": {},
   "outputs": [],
   "source": [
    "env = Snake((8, 8))\n",
    "#aa = DuelDQNAgent(env=env, num_actions=3, state_shape=[8, 8, 5], \n",
    "#              save_path=\"snake_models\", model_name=\"test\")\n",
    "#aa = CatDQNAgent(env=env, num_actions=3, state_shape=[8, 8, 5], num_atoms=51,\n",
    "#                 save_path=\"snake_models\", model_name=\"test\")\n",
    "#aa = SACAgent(env=env, num_actions=3, temperature=0.05,\n",
    "#              save_path=\"snake_models\", model_name=\"test\")\n",
    "aa = GaussDQNAgent(env=env, num_actions=3, state_shape=[8, 8, 5],\n",
    "                   save_path=\"snake_models\", loss='kl', model_name=\"test-gauss-boi-kl-3sigma\")"
   ]
  },
  {
   "cell_type": "code",
   "execution_count": 4,
   "metadata": {},
   "outputs": [],
   "source": [
    "aa.set_parameters(max_episode_length=1000, replay_memory_size=100000, replay_start_size=10000,\n",
    "                  discount_factor=0.999, final_eps=0.01, annealing_steps=100000)"
   ]
  },
  {
   "cell_type": "code",
   "execution_count": null,
   "metadata": {
    "scrolled": true
   },
   "outputs": [
    {
     "name": "stdout",
     "output_type": "stream",
     "text": [
      "frame count: 5573\n",
      "average reward: -0.842\n",
      "epsilon: 0.945\n",
      "average lifetime: 11.146\n",
      "-------------------------------\n",
      "frame count: 12961\n",
      "average reward: -0.754\n",
      "epsilon: 0.872\n",
      "average lifetime: 14.776\n",
      "-------------------------------\n",
      "frame count: 22970\n",
      "average reward: -0.782\n",
      "epsilon: 0.773\n",
      "average lifetime: 20.018\n",
      "-------------------------------\n",
      "frame count: 38114\n",
      "average reward: -0.598\n",
      "epsilon: 0.623\n",
      "average lifetime: 30.288\n",
      "-------------------------------\n",
      "frame count: 72447\n",
      "average reward: 0.248\n",
      "epsilon: 0.283\n",
      "average lifetime: 68.666\n",
      "-------------------------------\n",
      "frame count: 109951\n",
      "average reward: 3.858\n",
      "epsilon: 0.01\n",
      "average lifetime: 75.008\n",
      "-------------------------------\n",
      "frame count: 190435\n",
      "average reward: 10.168\n",
      "epsilon: 0.01\n",
      "average lifetime: 160.968\n",
      "-------------------------------\n",
      "frame count: 292951\n",
      "average reward: 15.98\n",
      "epsilon: 0.01\n",
      "average lifetime: 205.032\n",
      "-------------------------------\n",
      "frame count: 423550\n",
      "average reward: 21.06\n",
      "epsilon: 0.01\n",
      "average lifetime: 261.198\n",
      "-------------------------------\n",
      "frame count: 599201\n",
      "average reward: 26.95\n",
      "epsilon: 0.01\n",
      "average lifetime: 351.302\n",
      "-------------------------------\n",
      "frame count: 837832\n",
      "average reward: 34.644\n",
      "epsilon: 0.01\n",
      "average lifetime: 477.262\n",
      "-------------------------------\n",
      "frame count: 1123997\n",
      "average reward: 41.518\n",
      "epsilon: 0.01\n",
      "average lifetime: 572.33\n",
      "-------------------------------\n",
      "frame count: 1448518\n",
      "average reward: 47.646\n",
      "epsilon: 0.01\n",
      "average lifetime: 649.042\n",
      "-------------------------------\n",
      "frame count: 1804477\n",
      "average reward: 52.824\n",
      "epsilon: 0.01\n",
      "average lifetime: 711.918\n",
      "-------------------------------\n"
     ]
    }
   ],
   "source": [
    "aa.train(gpu_id=7, exploration=\"boltzmann\", save_freq=1000000, max_num_epochs=50, tau=1e-3)"
   ]
  },
  {
   "cell_type": "code",
   "execution_count": null,
   "metadata": {},
   "outputs": [],
   "source": []
  }
 ],
 "metadata": {
  "kernelspec": {
   "display_name": "Python [default]",
   "language": "python",
   "name": "python3"
  },
  "language_info": {
   "codemirror_mode": {
    "name": "ipython",
    "version": 3
   },
   "file_extension": ".py",
   "mimetype": "text/x-python",
   "name": "python",
   "nbconvert_exporter": "python",
   "pygments_lexer": "ipython3",
   "version": "3.5.4"
  }
 },
 "nbformat": 4,
 "nbformat_minor": 2
}
