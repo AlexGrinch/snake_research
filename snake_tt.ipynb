{
 "cells": [
  {
   "cell_type": "code",
   "execution_count": null,
   "metadata": {},
   "outputs": [],
   "source": [
    "import t3f\n",
    "import tensorflow as tf\n",
    "import numpy as np\n",
    "from environments import Snake\n",
    "from methods import ReplayMemory\n",
    "import os\n",
    "import matplotlib.pyplot as plt\n",
    "%matplotlib inline"
   ]
  },
  {
   "cell_type": "code",
   "execution_count": null,
   "metadata": {},
   "outputs": [],
   "source": [
    "def get_actions(s, qtt, sess):\n",
    "    feed_dict = {input_states_:s}\n",
    "    return sess.run(q_select, feed_dict=feed_dict)\n",
    "\n",
    "def tf_repeat(x, num):\n",
    "    u = tf.reshape(x, (-1, 1))\n",
    "    u = tf.tile(u, tf.TensorShape([tf.Dimension(1), num]))\n",
    "    u = tf.reshape(u, (-1, ))\n",
    "    return u\n",
    "\n",
    "def get_q_values(qtt, s):\n",
    "    # s [None x w x h]\n",
    "    \n",
    "    s_shape = s.shape[1:].as_list()\n",
    "    \n",
    "    b = s.shape[0]\n",
    "    w = s_shape[0]\n",
    "    h = s_shape[1]\n",
    "    s_idx = tf.reshape(s, (-1, h * w))    \n",
    "    s_a_idx = tf.concat(4 * [s_idx], axis=0) \n",
    "    a_idx = tf.reshape(tf_repeat(tf.range(start=0, limit=4), b), (-1, 1)) \n",
    "    s_a_idx = tf.concat([s_a_idx, a_idx], axis=1)\n",
    "    vals = t3f.gather_nd(qtt, s_a_idx, dtype=tf.float32)\n",
    "    return tf.transpose(tf.reshape(vals, shape=(4, b)))\n",
    "\n",
    "\n",
    "def get_q_action_values(qtt, sa):\n",
    "    return t3f.gather_nd(qtt, sa, dtype=tf.float32)"
   ]
  },
  {
   "cell_type": "code",
   "execution_count": null,
   "metadata": {},
   "outputs": [],
   "source": [
    "w = 4\n",
    "h = 4\n",
    "\n",
    "batch_size = 512\n",
    "\n",
    "replay_memory_size=50000\n",
    "replay_start_size=10000\n",
    "init_eps=1\n",
    "final_eps=0.1\n",
    "annealing_steps=100000\n",
    "gamma=0.99\n",
    "max_episode_length=400\n",
    "num_episodes = 1000000"
   ]
  },
  {
   "cell_type": "code",
   "execution_count": null,
   "metadata": {},
   "outputs": [],
   "source": [
    "train_env = Snake(grid_size=(w, h))"
   ]
  },
  {
   "cell_type": "code",
   "execution_count": null,
   "metadata": {},
   "outputs": [],
   "source": [
    "state_shape = (w * h) * [4, ]"
   ]
  },
  {
   "cell_type": "code",
   "execution_count": 6,
   "metadata": {},
   "outputs": [],
   "source": [
    "shape = (w * h) * [4,] + [4, ]"
   ]
  },
  {
   "cell_type": "code",
   "execution_count": 7,
   "metadata": {},
   "outputs": [],
   "source": [
    "q0init = t3f.cast(t3f.random_tensor(shape=shape, stddev=0.001, tt_rank=8), tf.float32)"
   ]
  },
  {
   "cell_type": "code",
   "execution_count": 8,
   "metadata": {},
   "outputs": [],
   "source": [
    "q0 = t3f.get_variable('Q', initializer=q0init)"
   ]
  },
  {
   "cell_type": "code",
   "execution_count": 9,
   "metadata": {},
   "outputs": [],
   "source": [
    "input_states = tf.placeholder(tf.int32, [batch_size, w, h, 1])\n",
    "input_actions = tf.placeholder(tf.int32, [batch_size, 1])\n",
    "input_rewards = tf.placeholder(tf.float32, [batch_size, ])\n",
    "\n",
    "input_states_ = tf.placeholder(tf.int32, [batch_size, w, h, 1])\n"
   ]
  },
  {
   "cell_type": "code",
   "execution_count": 10,
   "metadata": {},
   "outputs": [],
   "source": [
    "input_s_and_a = tf.concat([tf.reshape(input_states, (-1, w * h)), input_actions], axis=1) "
   ]
  },
  {
   "cell_type": "code",
   "execution_count": 11,
   "metadata": {},
   "outputs": [],
   "source": [
    "q = get_q_action_values(q0, input_s_and_a)"
   ]
  },
  {
   "cell_type": "code",
   "execution_count": 12,
   "metadata": {},
   "outputs": [],
   "source": [
    "input_s_ = tf.reshape(input_states_, (-1, w, h))\n",
    "\n",
    "q_ = tf.reduce_max(get_q_values(q0, input_s_), axis=1)\n",
    "\n",
    "q_select = tf.argmax(get_q_values(q0, input_s_), axis=1)"
   ]
  },
  {
   "cell_type": "code",
   "execution_count": 13,
   "metadata": {},
   "outputs": [],
   "source": [
    "targets = gamma * q_ + input_rewards\n"
   ]
  },
  {
   "cell_type": "code",
   "execution_count": 14,
   "metadata": {},
   "outputs": [],
   "source": [
    "loss = tf.losses.huber_loss(q, targets)"
   ]
  },
  {
   "cell_type": "code",
   "execution_count": 15,
   "metadata": {},
   "outputs": [],
   "source": [
    "optimizer = tf.train.AdamOptimizer(2.5e-4)\n",
    "\n",
    "step = optimizer.minimize(loss)"
   ]
  },
  {
   "cell_type": "code",
   "execution_count": 16,
   "metadata": {},
   "outputs": [],
   "source": [
    "rep_buffer = ReplayMemory(replay_memory_size)\n",
    "frame_count = 0\n",
    "while (frame_count < replay_start_size):\n",
    "    s = train_env.reset()\n",
    "    for time_step in range(max_episode_length):\n",
    "        a = np.random.randint(4)\n",
    "        s_, r, end = train_env.step(a)\n",
    "        rep_buffer.push(s, a, np.sign(r), s_, end)\n",
    "        s = s_\n",
    "        frame_count += 1\n",
    "        if end:\n",
    "            break"
   ]
  },
  {
   "cell_type": "code",
   "execution_count": 22,
   "metadata": {},
   "outputs": [],
   "source": [
    "os.environ[\"CUDA_DEVICE_ORDER\"] = \"PCI_BUS_ID\"  \n",
    "os.environ[\"CUDA_VISIBLE_DEVICES\"] = str(2)\n",
    "config = tf.ConfigProto()\n",
    "config.gpu_options.allow_growth = True"
   ]
  },
  {
   "cell_type": "code",
   "execution_count": 23,
   "metadata": {},
   "outputs": [],
   "source": [
    "sess = tf.Session(config=config)\n",
    "sess.run(tf.global_variables_initializer())"
   ]
  },
  {
   "cell_type": "code",
   "execution_count": 24,
   "metadata": {},
   "outputs": [],
   "source": [
    "s = train_env.reset()"
   ]
  },
  {
   "cell_type": "code",
   "execution_count": null,
   "metadata": {},
   "outputs": [
    {
     "name": "stdout",
     "output_type": "stream",
     "text": [
      "Train info: -1.0 -1\n",
      "Train info: -0.77 2\n",
      "Train info: -0.563 5\n",
      "Train info: 0.495 5\n"
     ]
    }
   ],
   "source": [
    "train_rewards = []\n",
    "for i in range(num_episodes):\n",
    "    s = train_env.reset()\n",
    "    R = 0\n",
    "    for time_step in range(max_episode_length):\n",
    "        a = get_actions([s] * batch_size, q0, sess)[0]\n",
    "        s_, r, done = train_env.step(a)\n",
    "        R += r\n",
    "        if r == 0: r = -0.01\n",
    "        rep_buffer.push(s, a, r, s_, end)\n",
    "        s = s_\n",
    "\n",
    "        if time_step % 4 == 0:\n",
    "            batch = rep_buffer.get_batch(batch_size)\n",
    "            sess.run(step, feed_dict={input_states:batch.s,\n",
    "                                      input_actions:batch.a.reshape((-1, 1)),\n",
    "                                      input_rewards:batch.r,\n",
    "                                      input_states_:batch.s_})\n",
    "        if done: break\n",
    "    train_rewards.append(R) \n",
    "    if i % 1000 == 0:\n",
    "        avg_reward = np.mean(train_rewards[-1000:])\n",
    "        max_reward = np.max(train_rewards[-1000:])\n",
    "        print(\"Train info:\", avg_reward, max_reward) "
   ]
  },
  {
   "cell_type": "code",
   "execution_count": null,
   "metadata": {},
   "outputs": [],
   "source": [
    "rep_buffer.get_batch(32).s_.shape"
   ]
  },
  {
   "cell_type": "code",
   "execution_count": null,
   "metadata": {},
   "outputs": [],
   "source": []
  }
 ],
 "metadata": {
  "kernelspec": {
   "display_name": "Python [conda env:tf]",
   "language": "python",
   "name": "conda-env-tf-py"
  },
  "language_info": {
   "codemirror_mode": {
    "name": "ipython",
    "version": 3
   },
   "file_extension": ".py",
   "mimetype": "text/x-python",
   "name": "python",
   "nbconvert_exporter": "python",
   "pygments_lexer": "ipython3",
   "version": "3.5.4"
  }
 },
 "nbformat": 4,
 "nbformat_minor": 2
}
