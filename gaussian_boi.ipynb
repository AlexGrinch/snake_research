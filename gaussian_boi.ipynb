{
 "cells": [
  {
   "cell_type": "code",
   "execution_count": 1,
   "metadata": {},
   "outputs": [
    {
     "name": "stderr",
     "output_type": "stream",
     "text": [
      "/root/miniconda3/envs/tf/lib/python3.5/site-packages/h5py/__init__.py:36: FutureWarning: Conversion of the second argument of issubdtype from `float` to `np.floating` is deprecated. In future, it will be treated as `np.float64 == np.dtype(float).type`.\n",
      "  from ._conv import register_converters as _register_converters\n"
     ]
    }
   ],
   "source": [
    "import os\n",
    "import time\n",
    "import random\n",
    "import numpy as np\n",
    "\n",
    "import tensorflow as tf\n",
    "import tensorflow.contrib.layers as layers\n",
    "\n",
    "import gym\n",
    "from gym import spaces\n",
    "from PIL import Image\n",
    "from collections import deque, namedtuple\n",
    "\n",
    "from IPython import display\n",
    "import matplotlib.pyplot as plt\n",
    "%matplotlib inline"
   ]
  },
  {
   "cell_type": "code",
   "execution_count": 2,
   "metadata": {},
   "outputs": [],
   "source": [
    "from environments import Snake\n",
    "from new_agents import *"
   ]
  },
  {
   "cell_type": "code",
   "execution_count": 3,
   "metadata": {},
   "outputs": [],
   "source": [
    "env = Snake((8, 8))\n",
    "#aa = DuelDQNAgent(env=env, num_actions=3, state_shape=[8, 8, 5], \n",
    "#              save_path=\"snake_models\", model_name=\"test\")\n",
    "#aa = CatDQNAgent(env=env, num_actions=3, state_shape=[8, 8, 5], num_atoms=51,\n",
    "#                 save_path=\"snake_models\", model_name=\"test\")\n",
    "#aa = SACAgent(env=env, num_actions=3, temperature=0.05,\n",
    "#              save_path=\"snake_models\", model_name=\"test\")\n",
    "aa = GaussDQNAgent(env=env, num_actions=3, state_shape=[8, 8, 5],\n",
    "                   save_path=\"snake_models\", model_name=\"test-gauss-boi-l2-3sigma\")"
   ]
  },
  {
   "cell_type": "code",
   "execution_count": 4,
   "metadata": {},
   "outputs": [],
   "source": [
    "aa.set_parameters(max_episode_length=1000, replay_memory_size=100000, replay_start_size=10000,\n",
    "                  discount_factor=0.999, final_eps=0.01, annealing_steps=100000)"
   ]
  },
  {
   "cell_type": "code",
   "execution_count": null,
   "metadata": {
    "scrolled": true
   },
   "outputs": [
    {
     "name": "stdout",
     "output_type": "stream",
     "text": [
      "frame count: 5010\n",
      "average reward: -0.884\n",
      "epsilon: 0.95\n",
      "average lifetime: 10.02\n",
      "-------------------------------\n",
      "frame count: 11147\n",
      "average reward: -0.89\n",
      "epsilon: 0.89\n",
      "average lifetime: 12.274\n",
      "-------------------------------\n",
      "frame count: 20431\n",
      "average reward: -0.752\n",
      "epsilon: 0.798\n",
      "average lifetime: 18.568\n",
      "-------------------------------\n",
      "frame count: 35299\n",
      "average reward: -0.584\n",
      "epsilon: 0.651\n",
      "average lifetime: 29.736\n",
      "-------------------------------\n",
      "frame count: 65121\n",
      "average reward: -0.078\n",
      "epsilon: 0.355\n",
      "average lifetime: 59.644\n",
      "-------------------------------\n",
      "frame count: 113553\n",
      "average reward: 2.954\n",
      "epsilon: 0.01\n",
      "average lifetime: 96.864\n",
      "-------------------------------\n",
      "frame count: 184285\n",
      "average reward: 9.12\n",
      "epsilon: 0.01\n",
      "average lifetime: 141.464\n",
      "-------------------------------\n",
      "frame count: 277616\n",
      "average reward: 14.992\n",
      "epsilon: 0.01\n",
      "average lifetime: 186.662\n",
      "-------------------------------\n",
      "frame count: 389142\n",
      "average reward: 18.344\n",
      "epsilon: 0.01\n",
      "average lifetime: 223.052\n",
      "-------------------------------\n",
      "frame count: 514628\n",
      "average reward: 20.37\n",
      "epsilon: 0.01\n",
      "average lifetime: 250.972\n",
      "-------------------------------\n",
      "frame count: 699901\n",
      "average reward: 25.166\n",
      "epsilon: 0.01\n",
      "average lifetime: 370.546\n",
      "-------------------------------\n",
      "frame count: 972183\n",
      "average reward: 35.598\n",
      "epsilon: 0.01\n",
      "average lifetime: 544.564\n",
      "-------------------------------\n",
      "frame count: 1318604\n",
      "average reward: 44.484\n",
      "epsilon: 0.01\n",
      "average lifetime: 692.842\n",
      "-------------------------------\n",
      "frame count: 1679606\n",
      "average reward: 54.666\n",
      "epsilon: 0.01\n",
      "average lifetime: 722.004\n",
      "-------------------------------\n"
     ]
    }
   ],
   "source": [
    "aa.train(gpu_id=1, exploration=\"boltzmann\", save_freq=1000000, max_num_epochs=50, tau=1e-3)"
   ]
  },
  {
   "cell_type": "code",
   "execution_count": null,
   "metadata": {},
   "outputs": [],
   "source": []
  }
 ],
 "metadata": {
  "kernelspec": {
   "display_name": "Python [default]",
   "language": "python",
   "name": "python3"
  },
  "language_info": {
   "codemirror_mode": {
    "name": "ipython",
    "version": 3
   },
   "file_extension": ".py",
   "mimetype": "text/x-python",
   "name": "python",
   "nbconvert_exporter": "python",
   "pygments_lexer": "ipython3",
   "version": "3.5.4"
  }
 },
 "nbformat": 4,
 "nbformat_minor": 2
}
