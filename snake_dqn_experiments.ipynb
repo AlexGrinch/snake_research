{
 "cells": [
  {
   "cell_type": "markdown",
   "metadata": {
    "nbpresent": {
     "id": "597d6989-74e7-4ec7-8903-9aea215cbb49"
    }
   },
   "source": [
    "# Imports"
   ]
  },
  {
   "cell_type": "code",
   "execution_count": 1,
   "metadata": {
    "nbpresent": {
     "id": "21a06ab6-fd5a-4c39-b641-680a372defe6"
    }
   },
   "outputs": [
    {
     "name": "stderr",
     "output_type": "stream",
     "text": [
      "/usr/local/lib/python3.5/dist-packages/h5py/__init__.py:36: FutureWarning: Conversion of the second argument of issubdtype from `float` to `np.floating` is deprecated. In future, it will be treated as `np.float64 == np.dtype(float).type`.\n",
      "  from ._conv import register_converters as _register_converters\n"
     ]
    }
   ],
   "source": [
    "import os\n",
    "import time\n",
    "import random\n",
    "import numpy as np\n",
    "\n",
    "import tensorflow as tf\n",
    "import tensorflow.contrib.layers as layers\n",
    "\n",
    "import gym\n",
    "from gym import spaces\n",
    "from PIL import Image\n",
    "from collections import deque, namedtuple\n",
    "\n",
    "from IPython import display\n",
    "import matplotlib.pyplot as plt\n",
    "%matplotlib inline"
   ]
  },
  {
   "cell_type": "code",
   "execution_count": 2,
   "metadata": {
    "nbpresent": {
     "id": "37e925e6-6039-4e40-93da-e956e072b26c"
    }
   },
   "outputs": [],
   "source": [
    "from environments import Snake\n",
    "from methods import QNetwork, ReplayMemory\n",
    "from agents import SnakeDQNAgent, SnakeDistDQNAgent"
   ]
  },
  {
   "cell_type": "markdown",
   "metadata": {
    "nbpresent": {
     "id": "d8b5cee0-93e4-44e5-b48c-3e9d072b7326"
    }
   },
   "source": [
    "# NN training"
   ]
  },
  {
   "cell_type": "code",
   "execution_count": 3,
   "metadata": {
    "nbpresent": {
     "id": "feaa050e-c990-4d84-94b7-fe0961f7d5ee"
    }
   },
   "outputs": [],
   "source": [
    "aa = SnakeDQNAgent(model_name=\"dqn/boltzmann_8x8e999_5d_stupid\", state_shape=[8, 8, 5])\n",
    "#aa = SnakeDistDQNAgent(model_name=\"distdqn_boltzmann_8x8e999\", state_shape=[8, 8, 5], num_atoms=51)"
   ]
  },
  {
   "cell_type": "code",
   "execution_count": 4,
   "metadata": {
    "nbpresent": {
     "id": "b97770f2-5d19-48ca-86ca-7339a66481eb"
    }
   },
   "outputs": [],
   "source": [
    "aa.set_parameters(max_episode_length=2000, replay_memory_size=100000, replay_start_size=10000,\n",
    "                  discount_factor=0.999, final_eps=0.01, annealing_steps=500000)"
   ]
  },
  {
   "cell_type": "code",
   "execution_count": null,
   "metadata": {
    "nbpresent": {
     "id": "09a28cf1-440e-4ea4-b0ea-36c4e4536795"
    },
    "scrolled": true
   },
   "outputs": [
    {
     "name": "stdout",
     "output_type": "stream",
     "text": [
      "frame count: 5655\n",
      "average reward: -0.86\n",
      "epsilon: 0.989\n",
      "average lifetime: 11.31\n",
      "-------------------------------\n",
      "frame count: 14371\n",
      "average reward: -0.778\n",
      "epsilon: 0.972\n",
      "average lifetime: 17.432\n",
      "-------------------------------\n",
      "frame count: 23533\n",
      "average reward: -0.74\n",
      "epsilon: 0.953\n",
      "average lifetime: 18.324\n",
      "-------------------------------\n",
      "frame count: 33271\n",
      "average reward: -0.684\n",
      "epsilon: 0.934\n",
      "average lifetime: 19.476\n",
      "-------------------------------\n",
      "frame count: 42652\n",
      "average reward: -0.736\n",
      "epsilon: 0.916\n",
      "average lifetime: 18.762\n",
      "-------------------------------\n",
      "frame count: 53670\n",
      "average reward: -0.616\n",
      "epsilon: 0.894\n",
      "average lifetime: 22.036\n",
      "-------------------------------\n",
      "frame count: 66576\n",
      "average reward: -0.538\n",
      "epsilon: 0.868\n",
      "average lifetime: 25.812\n",
      "-------------------------------\n",
      "frame count: 81021\n",
      "average reward: -0.388\n",
      "epsilon: 0.84\n",
      "average lifetime: 28.89\n",
      "-------------------------------\n"
     ]
    }
   ],
   "source": [
    "aa.train(gpu_id=1, exploration=\"boltzmann\", save_freq=1000000, max_num_epochs=50)"
   ]
  },
  {
   "cell_type": "markdown",
   "metadata": {
    "nbpresent": {
     "id": "ef0de02b-c5a1-4823-9880-bff23962246e"
    }
   },
   "source": [
    "# Visualization"
   ]
  },
  {
   "cell_type": "code",
   "execution_count": 5,
   "metadata": {},
   "outputs": [],
   "source": [
    "from_epoch = 50"
   ]
  },
  {
   "cell_type": "code",
   "execution_count": 6,
   "metadata": {},
   "outputs": [],
   "source": [
    "aa.eps = 1e-2"
   ]
  },
  {
   "cell_type": "code",
   "execution_count": 13,
   "metadata": {},
   "outputs": [
    {
     "name": "stdout",
     "output_type": "stream",
     "text": [
      "INFO:tensorflow:Restoring parameters from snake_models/dqn/boltzmann_8x8e999_5d_stupid/model-50\n",
      "CPU times: user 6min 40s, sys: 52.9 s, total: 7min 33s\n",
      "Wall time: 4min 4s\n"
     ]
    }
   ],
   "source": [
    "%%time\n",
    "st, rew, grad, bellmans = aa.play_n_episodes_with_gradients(num_episodes=100, gpu_id=1, max_episode_length=2000, \n",
    "                             exploration='boltzmann', from_epoch=from_epoch)"
   ]
  },
  {
   "cell_type": "code",
   "execution_count": 26,
   "metadata": {},
   "outputs": [
    {
     "data": {
      "text/plain": [
       "<matplotlib.image.AxesImage at 0x7f330dce09e8>"
      ]
     },
     "execution_count": 26,
     "metadata": {},
     "output_type": "execute_result"
    },
    {
     "data": {
      "image/png": "[encoded data removed]",
      "text/plain": [
       "<matplotlib.figure.Figure at 0x7f330e3c29e8>"
      ]
     },
     "metadata": {},
     "output_type": "display_data"
    }
   ],
   "source": [
    "state = st[0][0]\n",
    "img = sum([state[:,:,i]*(i+1) for i in [0, 1, 2, 3, 4]])\n",
    "plt.imshow(img)"
   ]
  },
  {
   "cell_type": "code",
   "execution_count": 8,
   "metadata": {},
   "outputs": [
    {
     "name": "stdout",
     "output_type": "stream",
     "text": [
      "INFO:tensorflow:Restoring parameters from snake_models/dqn/boltzmann_8x8e999_5d_stupid/model-50\n",
      "CPU times: user 1min 46s, sys: 14.5 s, total: 2min 1s\n",
      "Wall time: 1min 13s\n"
     ]
    }
   ],
   "source": [
    "%%time\n",
    "st, rew = aa.play_n_episodes(num_episodes=100, gpu_id=1, max_episode_length=2000, \n",
    "                             exploration='boltzmann', from_epoch=from_epoch)"
   ]
  },
  {
   "cell_type": "code",
   "execution_count": 14,
   "metadata": {},
   "outputs": [
    {
     "data": {
      "text/plain": [
       "(array([ 1.,  0.,  0.,  1.,  1.,  0.,  1.,  1.,  4., 91.]),\n",
       " array([ 0. ,  6.1, 12.2, 18.3, 24.4, 30.5, 36.6, 42.7, 48.8, 54.9, 61. ]),\n",
       " <a list of 10 Patch objects>)"
      ]
     },
     "execution_count": 14,
     "metadata": {},
     "output_type": "execute_result"
    },
    {
     "data": {
      "image/png": "[encoded data removed]",
      "text/plain": [
       "<matplotlib.figure.Figure at 0x7f928003b4e0>"
      ]
     },
     "metadata": {},
     "output_type": "display_data"
    }
   ],
   "source": [
    "plt.hist(rew)"
   ]
  },
  {
   "cell_type": "code",
   "execution_count": 15,
   "metadata": {},
   "outputs": [
    {
     "data": {
      "text/plain": [
       "78"
      ]
     },
     "execution_count": 15,
     "metadata": {},
     "output_type": "execute_result"
    }
   ],
   "source": [
    "(np.array(rew)==61).sum()"
   ]
  },
  {
   "cell_type": "code",
   "execution_count": 16,
   "metadata": {},
   "outputs": [
    {
     "data": {
      "text/plain": [
       "58.39"
      ]
     },
     "execution_count": 16,
     "metadata": {},
     "output_type": "execute_result"
    }
   ],
   "source": [
    "np.mean(rew)"
   ]
  },
  {
   "cell_type": "code",
   "execution_count": 17,
   "metadata": {},
   "outputs": [
    {
     "data": {
      "text/plain": [
       "array([ 8, 95, 94, 47, 98, 39, 96, 84, 15, 22, 66, 17, 31, 32, 57, 53, 83,\n",
       "       33, 99, 86, 13, 91, 63, 64, 65, 61, 67, 60, 68, 69, 70, 59, 58, 62,\n",
       "       71, 76, 73, 97, 93, 92, 90, 89, 88, 87, 72, 85, 81, 80, 79, 78, 77,\n",
       "       75, 74, 82, 56,  0, 54, 23, 21, 20, 19, 18, 16, 14, 12, 24, 11,  9,\n",
       "        7,  6,  5,  4,  3,  2,  1, 10, 25, 26, 27, 52, 51, 50, 48, 46, 45,\n",
       "       44, 43, 42, 41, 40, 38, 37, 36, 35, 34, 30, 29, 28, 55, 49])"
      ]
     },
     "execution_count": 17,
     "metadata": {},
     "output_type": "execute_result"
    }
   ],
   "source": [
    "np.argsort(rew)"
   ]
  },
  {
   "cell_type": "code",
   "execution_count": 18,
   "metadata": {},
   "outputs": [
    {
     "data": {
      "text/plain": [
       "array([ 0, 24, 26, 40, 48, 49, 50, 50, 54, 56, 56, 56, 56, 56, 56, 56, 57,\n",
       "       57, 58, 58, 59, 59, 61, 61, 61, 61, 61, 61, 61, 61, 61, 61, 61, 61,\n",
       "       61, 61, 61, 61, 61, 61, 61, 61, 61, 61, 61, 61, 61, 61, 61, 61, 61,\n",
       "       61, 61, 61, 61, 61, 61, 61, 61, 61, 61, 61, 61, 61, 61, 61, 61, 61,\n",
       "       61, 61, 61, 61, 61, 61, 61, 61, 61, 61, 61, 61, 61, 61, 61, 61, 61,\n",
       "       61, 61, 61, 61, 61, 61, 61, 61, 61, 61, 61, 61, 61, 61, 61])"
      ]
     },
     "execution_count": 18,
     "metadata": {},
     "output_type": "execute_result"
    }
   ],
   "source": [
    "np.array(rew)[np.argsort(rew)]"
   ]
  },
  {
   "cell_type": "code",
   "execution_count": 125,
   "metadata": {},
   "outputs": [
    {
     "data": {
      "text/plain": [
       "787"
      ]
     },
     "execution_count": 125,
     "metadata": {},
     "output_type": "execute_result"
    }
   ],
   "source": [
    "len(st[71])"
   ]
  },
  {
   "cell_type": "code",
   "execution_count": 42,
   "metadata": {},
   "outputs": [
    {
     "data": {
      "text/plain": [
       "(8, 8, 5)"
      ]
     },
     "execution_count": 42,
     "metadata": {},
     "output_type": "execute_result"
    }
   ],
   "source": [
    "grad[num][0][0][0].shape"
   ]
  },
  {
   "cell_type": "code",
   "execution_count": 126,
   "metadata": {},
   "outputs": [
    {
     "data": {
      "image/png": "[encoded data removed]",
      "text/plain": [
       "<matplotlib.figure.Figure at 0x7f91efc16e80>"
      ]
     },
     "metadata": {},
     "output_type": "display_data"
    },
    {
     "data": {
      "image/png": "[encoded data removed]",
      "text/plain": [
       "<matplotlib.figure.Figure at 0x7f91efc16e80>"
      ]
     },
     "metadata": {},
     "output_type": "display_data"
    }
   ],
   "source": [
    "num = 71\n",
    "start = 750\n",
    "for time_step in range(start, len(st[num])):\n",
    "    state = st[num][time_step]\n",
    "    #state = grad[num][time_step][0][0]\n",
    "    img = sum([state[:,:,i]*(i+1) for i in [0, 1, 3, 4]])\n",
    "    if time_step % 1 == 0:\n",
    "        plt.imshow(img)\n",
    "        display.clear_output(wait=True)\n",
    "        display.display(plt.gcf())"
   ]
  },
  {
   "cell_type": "code",
   "execution_count": 127,
   "metadata": {},
   "outputs": [
    {
     "data": {
      "image/png": "[encoded data removed]",
      "text/plain": [
       "<matplotlib.figure.Figure at 0x7f91efc16668>"
      ]
     },
     "metadata": {},
     "output_type": "display_data"
    },
    {
     "data": {
      "image/png": "[encoded data removed]",
      "text/plain": [
       "<matplotlib.figure.Figure at 0x7f91efc16668>"
      ]
     },
     "metadata": {},
     "output_type": "display_data"
    }
   ],
   "source": [
    "#num = 98\n",
    "start = 0\n",
    "norms = []\n",
    "for time_step in range(start, len(st[num])-1):\n",
    "    #state = st[num][time_step]\n",
    "    state = grad[num][time_step][0][0]\n",
    "    norm = np.linalg.norm(state)\n",
    "    norms.append(norm)\n",
    "    img = sum([state[:,:,i]*(i+1) for i in [0, 1, 3, 4]])\n",
    "    if time_step % 100 == 0:\n",
    "        plt.imshow(img)\n",
    "        display.clear_output(wait=True)\n",
    "        display.display(plt.gcf())"
   ]
  },
  {
   "cell_type": "code",
   "execution_count": 67,
   "metadata": {},
   "outputs": [
    {
     "data": {
      "text/plain": [
       "array([556, 616, 470, 390, 442, 196,  66, 278,  70, 573])"
      ]
     },
     "execution_count": 67,
     "metadata": {},
     "output_type": "execute_result"
    }
   ],
   "source": [
    "np.argsort(norms)[::-1][:10]"
   ]
  },
  {
   "cell_type": "code",
   "execution_count": 128,
   "metadata": {},
   "outputs": [
    {
     "data": {
      "text/plain": [
       "[<matplotlib.lines.Line2D at 0x7f91ecae8c88>]"
      ]
     },
     "execution_count": 128,
     "metadata": {},
     "output_type": "execute_result"
    },
    {
     "data": {
      "image/png": "[encoded data removed]",
      "text/plain": [
       "<matplotlib.figure.Figure at 0x7f91efcf1e80>"
      ]
     },
     "metadata": {},
     "output_type": "display_data"
    }
   ],
   "source": [
    "plt.plot(np.minimum(norms, 50), '-')"
   ]
  },
  {
   "cell_type": "code",
   "execution_count": 129,
   "metadata": {},
   "outputs": [
    {
     "data": {
      "text/plain": [
       "[<matplotlib.lines.Line2D at 0x7f91ef700be0>]"
      ]
     },
     "execution_count": 129,
     "metadata": {},
     "output_type": "execute_result"
    },
    {
     "data": {
      "image/png": "[encoded data removed]",
      "text/plain": [
       "<matplotlib.figure.Figure at 0x7f91efb9f6d8>"
      ]
     },
     "metadata": {},
     "output_type": "display_data"
    }
   ],
   "source": [
    "plt.plot(bellmans[num])"
   ]
  },
  {
   "cell_type": "code",
   "execution_count": 101,
   "metadata": {},
   "outputs": [
    {
     "data": {
      "text/plain": [
       "611"
      ]
     },
     "execution_count": 101,
     "metadata": {},
     "output_type": "execute_result"
    }
   ],
   "source": [
    "np.argmax(norms)"
   ]
  },
  {
   "cell_type": "code",
   "execution_count": 37,
   "metadata": {},
   "outputs": [
    {
     "data": {
      "text/plain": [
       "[18.25882,\n",
       " 13.968602,\n",
       " 18.935768,\n",
       " 14.790593,\n",
       " 15.920736,\n",
       " 25.242369,\n",
       " 21.964174,\n",
       " 15.690662,\n",
       " 16.759266,\n",
       " 15.185252]"
      ]
     },
     "execution_count": 37,
     "metadata": {},
     "output_type": "execute_result"
    }
   ],
   "source": [
    "norms[-10:]"
   ]
  },
  {
   "cell_type": "code",
   "execution_count": 34,
   "metadata": {},
   "outputs": [
    {
     "data": {
      "text/plain": [
       "array([ 0.02974274,  0.14234932,  0.29319986,  0.17110213,  0.93041124,\n",
       "        0.44007122,  0.66375246,  0.04679448,  0.06346042, 12.26950264])"
      ]
     },
     "execution_count": 34,
     "metadata": {},
     "output_type": "execute_result"
    }
   ],
   "source": [
    "bellmans[num][-10:]"
   ]
  },
  {
   "cell_type": "code",
   "execution_count": 126,
   "metadata": {},
   "outputs": [
    {
     "data": {
      "text/plain": [
       "array([0.69026288, 0.97610241, 0.21310688, 0.25247661, 0.28238127,\n",
       "       0.59123431, 0.25253276, 0.51709609, 0.89591376, 0.50177449])"
      ]
     },
     "execution_count": 126,
     "metadata": {},
     "output_type": "execute_result"
    }
   ],
   "source": [
    "np.abs(np.random.random(size=10))"
   ]
  },
  {
   "cell_type": "code",
   "execution_count": 98,
   "metadata": {},
   "outputs": [
    {
     "data": {
      "text/plain": [
       "[65.848,\n",
       " 19.09056,\n",
       " 17.367935,\n",
       " 22.156555,\n",
       " 19.499144,\n",
       " 15.366457,\n",
       " 21.641083,\n",
       " 17.833614,\n",
       " 16.761194,\n",
       " 19.090733,\n",
       " 16.028679,\n",
       " 16.419443,\n",
       " 23.182627,\n",
       " 20.833233,\n",
       " 21.44269,\n",
       " 14.481591,\n",
       " 17.55101,\n",
       " 13.448192,\n",
       " 30.542316,\n",
       " 13.73779]"
      ]
     },
     "execution_count": 98,
     "metadata": {},
     "output_type": "execute_result"
    }
   ],
   "source": [
    "norms[-20:]"
   ]
  },
  {
   "cell_type": "code",
   "execution_count": 102,
   "metadata": {},
   "outputs": [
    {
     "data": {
      "image/png": "[encoded data removed]",
      "text/plain": [
       "<matplotlib.figure.Figure at 0x7f91efeafe48>"
      ]
     },
     "metadata": {},
     "output_type": "display_data"
    }
   ],
   "source": [
    "plt.hist(norms, bins=50);"
   ]
  },
  {
   "cell_type": "code",
   "execution_count": 52,
   "metadata": {},
   "outputs": [
    {
     "data": {
      "text/plain": [
       "0.15567506500000405"
      ]
     },
     "execution_count": 52,
     "metadata": {},
     "output_type": "execute_result"
    }
   ],
   "source": [
    "43.11274-0.999*43.000065"
   ]
  },
  {
   "cell_type": "code",
   "execution_count": 46,
   "metadata": {},
   "outputs": [
    {
     "data": {
      "text/plain": [
       "array([0.15443899, 0.15567478, 0.04837341])"
      ]
     },
     "execution_count": 46,
     "metadata": {},
     "output_type": "execute_result"
    }
   ],
   "source": [
    "bellmans[num][:3]"
   ]
  },
  {
   "cell_type": "code",
   "execution_count": 112,
   "metadata": {},
   "outputs": [
    {
     "name": "stdout",
     "output_type": "stream",
     "text": [
      "INFO:tensorflow:Restoring parameters from snake_models/dqn/boltzmann_8x8e999_5d_stupid/model-50\n"
     ]
    },
    {
     "data": {
      "text/plain": [
       "array([[-0.46458435, 10.318831  , -1.671556  ]], dtype=float32)"
      ]
     },
     "execution_count": 112,
     "metadata": {},
     "output_type": "execute_result"
    },
    {
     "data": {
      "image/png": "[encoded data removed]",
      "text/plain": [
       "<matplotlib.figure.Figure at 0x7f91efe1d860>"
      ]
     },
     "metadata": {},
     "output_type": "display_data"
    }
   ],
   "source": [
    "state = st[num][611]\n",
    "#state = np.rot90(state)\n",
    "#state = np.rot90(state)\n",
    "#state = np.rot90(state)\n",
    "#state = np.rot90(state)\n",
    "img = sum([state[:,:,i]*(i+1) for i in range(5)])\n",
    "plt.imshow(img)\n",
    "aa.get_q_values([state], gpu_id=2, from_epoch=from_epoch)"
   ]
  },
  {
   "cell_type": "code",
   "execution_count": 61,
   "metadata": {},
   "outputs": [
    {
     "ename": "IndexError",
     "evalue": "list index out of range",
     "output_type": "error",
     "traceback": [
      "\u001b[0;31m---------------------------------------------------------------------------\u001b[0m",
      "\u001b[0;31mIndexError\u001b[0m                                Traceback (most recent call last)",
      "\u001b[0;32m<ipython-input-61-b7426ada9eb9>\u001b[0m in \u001b[0;36m<module>\u001b[0;34m()\u001b[0m\n\u001b[0;32m----> 1\u001b[0;31m \u001b[0mnp\u001b[0m\u001b[0;34m.\u001b[0m\u001b[0mlinalg\u001b[0m\u001b[0;34m.\u001b[0m\u001b[0mnorm\u001b[0m\u001b[0;34m(\u001b[0m\u001b[0mgrad\u001b[0m\u001b[0;34m[\u001b[0m\u001b[0mnum\u001b[0m\u001b[0;34m]\u001b[0m\u001b[0;34m[\u001b[0m\u001b[0;36m890\u001b[0m\u001b[0;34m]\u001b[0m\u001b[0;34m[\u001b[0m\u001b[0;36m0\u001b[0m\u001b[0;34m]\u001b[0m\u001b[0;34m[\u001b[0m\u001b[0;36m0\u001b[0m\u001b[0;34m]\u001b[0m\u001b[0;34m)\u001b[0m\u001b[0;34m\u001b[0m\u001b[0m\n\u001b[0m",
      "\u001b[0;31mIndexError\u001b[0m: list index out of range"
     ]
    }
   ],
   "source": [
    "np.linalg.norm(grad[num][890][0][0])"
   ]
  },
  {
   "cell_type": "code",
   "execution_count": 29,
   "metadata": {},
   "outputs": [
    {
     "data": {
      "text/plain": [
       "[24.609682,\n",
       " 14.852001,\n",
       " 13.856598,\n",
       " 16.059,\n",
       " 16.723822,\n",
       " 14.858614,\n",
       " 13.523892,\n",
       " 12.57099,\n",
       " 17.652782,\n",
       " 12.958504,\n",
       " 17.881718,\n",
       " 13.63808,\n",
       " 15.637628,\n",
       " 16.999454,\n",
       " 14.624116]"
      ]
     },
     "execution_count": 29,
     "metadata": {},
     "output_type": "execute_result"
    }
   ],
   "source": [
    "norms"
   ]
  },
  {
   "cell_type": "code",
   "execution_count": 51,
   "metadata": {},
   "outputs": [
    {
     "name": "stdout",
     "output_type": "stream",
     "text": [
      "INFO:tensorflow:Restoring parameters from snake_models/dqn/boltzmann_8x8e999_5d_stupid/model-50\n"
     ]
    },
    {
     "data": {
      "text/plain": [
       "array([[ 11.463609,  14.10663 , -34.39495 ]], dtype=float32)"
      ]
     },
     "execution_count": 51,
     "metadata": {},
     "output_type": "execute_result"
    },
    {
     "data": {
      "image/png": "[encoded data removed]",
      "text/plain": [
       "<matplotlib.figure.Figure at 0x7fedfbe4a4a8>"
      ]
     },
     "metadata": {},
     "output_type": "display_data"
    }
   ],
   "source": [
    "state = st[num][872]\n",
    "#state = np.rot90(state)\n",
    "#state = np.rot90(state)\n",
    "#state = np.rot90(state)\n",
    "#state = np.rot90(state)\n",
    "img = sum([state[:,:,i]*(i+1) for i in range(5)])\n",
    "plt.imshow(img)\n",
    "aa.get_q_values([state], gpu_id=2, from_epoch=from_epoch)"
   ]
  },
  {
   "cell_type": "code",
   "execution_count": 52,
   "metadata": {},
   "outputs": [
    {
     "data": {
      "text/plain": [
       "<matplotlib.colorbar.Colorbar at 0x7fee0405c898>"
      ]
     },
     "execution_count": 52,
     "metadata": {},
     "output_type": "execute_result"
    },
    {
     "data": {
      "image/png": "[encoded data removed]",
      "text/plain": [
       "<matplotlib.figure.Figure at 0x7fedfbefe160>"
      ]
     },
     "metadata": {},
     "output_type": "display_data"
    }
   ],
   "source": [
    "gr = grad[38][873][0][0]\n",
    "plt.imshow(gr[:,:,4])\n",
    "plt.colorbar()"
   ]
  },
  {
   "cell_type": "code",
   "execution_count": 83,
   "metadata": {},
   "outputs": [
    {
     "data": {
      "text/plain": [
       "2"
      ]
     },
     "execution_count": 83,
     "metadata": {},
     "output_type": "execute_result"
    }
   ],
   "source": [
    "(state[:,:,1]!=state[:,:,-1]).sum()"
   ]
  },
  {
   "cell_type": "code",
   "execution_count": 100,
   "metadata": {},
   "outputs": [
    {
     "name": "stdout",
     "output_type": "stream",
     "text": [
      "INFO:tensorflow:Restoring parameters from snake_models/dqn/boltzmann_8x8e999_5d_stupid/model-50\n"
     ]
    }
   ],
   "source": [
    "q_values = aa.get_q_values(st[num], gpu_id=2, from_epoch=from_epoch)"
   ]
  },
  {
   "cell_type": "code",
   "execution_count": 103,
   "metadata": {},
   "outputs": [],
   "source": [
    "q_spread = np.max(q_values, axis=1) - np.min(q_values, axis=1)"
   ]
  },
  {
   "cell_type": "code",
   "execution_count": 126,
   "metadata": {},
   "outputs": [
    {
     "data": {
      "image/png": "[encoded data removed]",
      "text/plain": [
       "<matplotlib.figure.Figure at 0x7f285cc302b0>"
      ]
     },
     "metadata": {},
     "output_type": "display_data"
    }
   ],
   "source": [
    "plt.hist(q_spread, bins=50);"
   ]
  },
  {
   "cell_type": "code",
   "execution_count": 110,
   "metadata": {},
   "outputs": [
    {
     "data": {
      "text/plain": [
       "array([ 544, 1045,  543, 1157, 1128,  762, 1275,  990,  729, 1335])"
      ]
     },
     "execution_count": 110,
     "metadata": {},
     "output_type": "execute_result"
    }
   ],
   "source": [
    "np.argsort(q_spread)[::-1][:10]"
   ]
  },
  {
   "cell_type": "code",
   "execution_count": 59,
   "metadata": {},
   "outputs": [],
   "source": [
    "actions = np.random.randint(3, size=35)"
   ]
  },
  {
   "cell_type": "code",
   "execution_count": 75,
   "metadata": {},
   "outputs": [
    {
     "name": "stdout",
     "output_type": "stream",
     "text": [
      "INFO:tensorflow:Restoring parameters from snake_models/dqn/boltzmann_8x8e999_5d_stupid/model-50\n"
     ]
    }
   ],
   "source": [
    "config = aa.gpu_config(2)\n",
    "\n",
    "with tf.Session(config=config) as sess:\n",
    "    aa.saver.restore(sess, aa.path+\"/model-\"+str(from_epoch))\n",
    "    #features = aa.agent_net.get_features(sess, st[0])\n",
    "    #gradients = aa.agent_net.get_gradients(sess, st[72], actions)\n",
    "    gr2 = aa.agent_net.get_gradients(sess, st[72][0].reshape(1, 8, 8, 5), actions[0].reshape(1, ))"
   ]
  },
  {
   "cell_type": "code",
   "execution_count": 73,
   "metadata": {},
   "outputs": [
    {
     "data": {
      "text/plain": [
       "(8, 8, 5)"
      ]
     },
     "execution_count": 73,
     "metadata": {},
     "output_type": "execute_result"
    }
   ],
   "source": [
    "gr2[0][0].shape"
   ]
  },
  {
   "cell_type": "code",
   "execution_count": 72,
   "metadata": {},
   "outputs": [
    {
     "data": {
      "text/plain": [
       "(8, 8, 5)"
      ]
     },
     "execution_count": 72,
     "metadata": {},
     "output_type": "execute_result"
    }
   ],
   "source": [
    "gr1[0].shape"
   ]
  },
  {
   "cell_type": "code",
   "execution_count": 74,
   "metadata": {},
   "outputs": [],
   "source": [
    "gr1[0]=gr2[0][0]"
   ]
  },
  {
   "cell_type": "code",
   "execution_count": 50,
   "metadata": {},
   "outputs": [
    {
     "data": {
      "text/plain": [
       "(8, 8, 5)"
      ]
     },
     "execution_count": 50,
     "metadata": {},
     "output_type": "execute_result"
    }
   ],
   "source": [
    "gr2[0][0].shape"
   ]
  },
  {
   "cell_type": "code",
   "execution_count": 51,
   "metadata": {},
   "outputs": [
    {
     "data": {
      "text/plain": [
       "array([[ 0.00000000e+00,  0.00000000e+00,  0.00000000e+00,\n",
       "         0.00000000e+00,  0.00000000e+00],\n",
       "       [ 0.00000000e+00,  0.00000000e+00,  0.00000000e+00,\n",
       "         0.00000000e+00,  0.00000000e+00],\n",
       "       [ 0.00000000e+00,  0.00000000e+00,  0.00000000e+00,\n",
       "         0.00000000e+00,  0.00000000e+00],\n",
       "       [ 0.00000000e+00,  0.00000000e+00,  0.00000000e+00,\n",
       "         0.00000000e+00,  0.00000000e+00],\n",
       "       [ 0.00000000e+00,  0.00000000e+00,  0.00000000e+00,\n",
       "         0.00000000e+00,  0.00000000e+00],\n",
       "       [ 6.99020386e+01, -1.18397743e+02,  1.39849243e+01,\n",
       "         1.27430856e-01, -1.94481659e+01],\n",
       "       [ 4.33639717e+01, -2.89101440e+02, -1.54107485e+01,\n",
       "         5.09078836e+00, -2.25040493e+01],\n",
       "       [-3.68004150e+01, -1.36711166e+02,  4.04458694e+01,\n",
       "         3.96173835e+00,  8.86772537e+00]], dtype=float32)"
      ]
     },
     "execution_count": 51,
     "metadata": {},
     "output_type": "execute_result"
    }
   ],
   "source": [
    "gr1[0]"
   ]
  },
  {
   "cell_type": "code",
   "execution_count": 54,
   "metadata": {},
   "outputs": [
    {
     "data": {
      "text/plain": [
       "array([[ True,  True,  True,  True,  True],\n",
       "       [ True,  True,  True,  True,  True],\n",
       "       [ True,  True,  True,  True,  True],\n",
       "       [ True,  True,  True,  True,  True],\n",
       "       [ True,  True,  True,  True,  True],\n",
       "       [ True,  True,  True,  True,  True],\n",
       "       [ True,  True,  True,  True,  True],\n",
       "       [ True,  True,  True,  True,  True]])"
      ]
     },
     "execution_count": 54,
     "metadata": {},
     "output_type": "execute_result"
    }
   ],
   "source": [
    "gr2[0][0][0]==gr1[0]"
   ]
  },
  {
   "cell_type": "code",
   "execution_count": 55,
   "metadata": {},
   "outputs": [
    {
     "data": {
      "text/plain": [
       "5.4976892e-05"
      ]
     },
     "execution_count": 55,
     "metadata": {},
     "output_type": "execute_result"
    }
   ],
   "source": [
    "np.linalg.norm(gr1-gr2[0][0])"
   ]
  },
  {
   "cell_type": "code",
   "execution_count": 28,
   "metadata": {},
   "outputs": [],
   "source": [
    "gr1 = gradients[0][0]"
   ]
  },
  {
   "cell_type": "code",
   "execution_count": 39,
   "metadata": {},
   "outputs": [
    {
     "data": {
      "text/plain": [
       "array([[ 0.0000000e+00,  0.0000000e+00,  0.0000000e+00,  0.0000000e+00,\n",
       "         0.0000000e+00,  6.9902039e+01,  4.3363972e+01, -3.6800415e+01],\n",
       "       [ 0.0000000e+00,  0.0000000e+00,  0.0000000e+00,  0.0000000e+00,\n",
       "         0.0000000e+00,  2.4298088e+01,  3.9720543e+01,  1.2715421e+02],\n",
       "       [ 0.0000000e+00,  0.0000000e+00,  0.0000000e+00,  0.0000000e+00,\n",
       "         0.0000000e+00, -9.9838778e-02, -2.3712592e+00,  2.9424384e+00],\n",
       "       [ 0.0000000e+00,  0.0000000e+00,  0.0000000e+00,  0.0000000e+00,\n",
       "         0.0000000e+00,  0.0000000e+00,  0.0000000e+00,  0.0000000e+00],\n",
       "       [ 0.0000000e+00,  0.0000000e+00,  0.0000000e+00,  0.0000000e+00,\n",
       "         0.0000000e+00,  0.0000000e+00,  0.0000000e+00,  0.0000000e+00],\n",
       "       [ 0.0000000e+00,  0.0000000e+00,  0.0000000e+00,  0.0000000e+00,\n",
       "         0.0000000e+00,  0.0000000e+00,  0.0000000e+00,  0.0000000e+00],\n",
       "       [ 0.0000000e+00,  0.0000000e+00,  0.0000000e+00,  0.0000000e+00,\n",
       "         0.0000000e+00,  0.0000000e+00,  0.0000000e+00,  0.0000000e+00],\n",
       "       [ 0.0000000e+00,  0.0000000e+00,  0.0000000e+00,  0.0000000e+00,\n",
       "         0.0000000e+00,  0.0000000e+00,  0.0000000e+00,  0.0000000e+00]],\n",
       "      dtype=float32)"
      ]
     },
     "execution_count": 39,
     "metadata": {},
     "output_type": "execute_result"
    }
   ],
   "source": [
    "gr1[:,:,0]"
   ]
  },
  {
   "cell_type": "code",
   "execution_count": 44,
   "metadata": {},
   "outputs": [
    {
     "data": {
      "text/plain": [
       "array([[ 0.0000000e+00,  0.0000000e+00,  0.0000000e+00,  0.0000000e+00,\n",
       "         0.0000000e+00,  6.9902039e+01,  4.3363972e+01, -3.6800419e+01],\n",
       "       [ 0.0000000e+00,  0.0000000e+00,  0.0000000e+00,  0.0000000e+00,\n",
       "         0.0000000e+00,  2.4298090e+01,  3.9720505e+01,  1.2715423e+02],\n",
       "       [ 0.0000000e+00,  0.0000000e+00,  0.0000000e+00,  0.0000000e+00,\n",
       "         0.0000000e+00, -9.9839516e-02, -2.3712597e+00,  2.9424376e+00],\n",
       "       [ 0.0000000e+00,  0.0000000e+00,  0.0000000e+00,  0.0000000e+00,\n",
       "         0.0000000e+00,  0.0000000e+00,  0.0000000e+00,  0.0000000e+00],\n",
       "       [ 0.0000000e+00,  0.0000000e+00,  0.0000000e+00,  0.0000000e+00,\n",
       "         0.0000000e+00,  0.0000000e+00,  0.0000000e+00,  0.0000000e+00],\n",
       "       [ 0.0000000e+00,  0.0000000e+00,  0.0000000e+00,  0.0000000e+00,\n",
       "         0.0000000e+00,  0.0000000e+00,  0.0000000e+00,  0.0000000e+00],\n",
       "       [ 0.0000000e+00,  0.0000000e+00,  0.0000000e+00,  0.0000000e+00,\n",
       "         0.0000000e+00,  0.0000000e+00,  0.0000000e+00,  0.0000000e+00],\n",
       "       [ 0.0000000e+00,  0.0000000e+00,  0.0000000e+00,  0.0000000e+00,\n",
       "         0.0000000e+00,  0.0000000e+00,  0.0000000e+00,  0.0000000e+00]],\n",
       "      dtype=float32)"
      ]
     },
     "execution_count": 44,
     "metadata": {},
     "output_type": "execute_result"
    }
   ],
   "source": [
    "gr2[0][0][:,:,0]"
   ]
  },
  {
   "cell_type": "code",
   "execution_count": 20,
   "metadata": {},
   "outputs": [],
   "source": [
    "actions = np.random.randint(3, size=35)"
   ]
  },
  {
   "cell_type": "code",
   "execution_count": 21,
   "metadata": {},
   "outputs": [
    {
     "data": {
      "text/plain": [
       "array([0, 2, 1, 2, 1, 1, 2, 0, 0, 0, 1, 1, 1, 1, 0, 1, 2, 0, 0, 2, 1, 1,\n",
       "       2, 0, 2, 0, 1, 2, 2, 0, 0, 1, 2, 1, 0])"
      ]
     },
     "execution_count": 21,
     "metadata": {},
     "output_type": "execute_result"
    }
   ],
   "source": [
    "actions"
   ]
  },
  {
   "cell_type": "code",
   "execution_count": 19,
   "metadata": {},
   "outputs": [
    {
     "data": {
      "text/plain": [
       "35"
      ]
     },
     "execution_count": 19,
     "metadata": {},
     "output_type": "execute_result"
    }
   ],
   "source": [
    "len(st[72])"
   ]
  },
  {
   "cell_type": "code",
   "execution_count": 53,
   "metadata": {},
   "outputs": [],
   "source": [
    "norms = []\n",
    "for i in range(features.shape[0]-1):\n",
    "    norm = np.linalg.norm(features[i]-features[i+1])\n",
    "    norms.append(norm)"
   ]
  },
  {
   "cell_type": "code",
   "execution_count": 55,
   "metadata": {},
   "outputs": [
    {
     "data": {
      "text/plain": [
       "[<matplotlib.lines.Line2D at 0x7f286df6c320>]"
      ]
     },
     "execution_count": 55,
     "metadata": {},
     "output_type": "execute_result"
    },
    {
     "data": {
      "image/png": "[encoded data removed]",
      "text/plain": [
       "<matplotlib.figure.Figure at 0x7f288c0e4080>"
      ]
     },
     "metadata": {},
     "output_type": "display_data"
    }
   ],
   "source": [
    "plt.plot(norms)"
   ]
  },
  {
   "cell_type": "code",
   "execution_count": 75,
   "metadata": {},
   "outputs": [
    {
     "data": {
      "text/plain": [
       "array([238, 270, 410, 348,  37, 890,  83, 476,  46, 409, 432, 240, 272,\n",
       "        82, 271, 239, 891, 349,  41, 477,  86, 433,  33, 306, 236, 682,\n",
       "        73, 765, 268, 804, 740,  80, 764,  14, 434, 154, 350,  38, 186,\n",
       "       864, 237,  91, 119, 120, 456,  29,  13, 144,  47, 346, 103, 894,\n",
       "       145, 741,  72, 683,  85, 478, 171, 805, 137, 190, 269,  79, 811,\n",
       "       179, 214,  59, 187, 336, 482, 153, 343, 597,  36, 390, 163, 903,\n",
       "        20, 143,  34, 126, 770, 218, 102, 165,  49, 865, 159, 188, 430,\n",
       "        35, 474, 722, 131, 910,  18, 320, 326, 313,  56, 245,  66, 215,\n",
       "       651, 347, 786, 125, 278,  42, 471, 413, 162, 391, 344, 230, 351,\n",
       "        57,  44, 483, 183, 114,  63, 107, 123, 519, 779,  40,  96, 512,\n",
       "        17, 605,   8, 262, 286, 465,  67, 283,  70, 116, 160, 604, 742,\n",
       "       442, 279, 684, 156, 297, 356, 136, 806, 170, 383, 386, 253, 312,\n",
       "       257, 463,  75, 574, 562, 472, 513, 324, 117, 780,  97, 406,  84,\n",
       "       889, 304, 523,  23, 846,  32, 316, 161,  81,  65, 595, 185,  78,\n",
       "       624, 489, 578,  19, 173, 232, 778, 458, 129, 231, 575,  24, 134,\n",
       "       388, 105, 522, 696, 216, 600, 142, 723, 428,  93, 695, 158, 184,\n",
       "       207, 213, 632, 193, 769, 598, 365, 816,  60, 896,  76, 374, 302,\n",
       "       563, 872,  50, 649, 466, 652,  64, 261, 251,  87, 776, 104, 531,\n",
       "       577, 284,  95, 264, 337, 902, 341, 418, 121, 417, 217, 810, 234,\n",
       "       291, 777, 540, 393, 305, 266, 139, 178, 590, 206, 255, 799,  71,\n",
       "       147, 594,  12, 704,  74, 405, 127,  22,  10,  15, 721,  45, 677,\n",
       "       875, 455, 151,  77, 812,  11, 229, 554, 558, 506, 263,  25, 138,\n",
       "       124, 167, 620, 106,  39, 599, 273, 921, 342, 310, 339, 484, 431,\n",
       "       702, 191,  61, 866, 322, 175, 385, 427, 100,  88, 893, 174,  31,\n",
       "        99, 132, 815, 384, 906, 447, 223, 241, 359, 556, 141, 220, 334,\n",
       "       277, 274, 247, 242, 382, 211, 317, 189, 108, 567, 155, 493, 794,\n",
       "       340, 817, 421, 787, 318, 857, 221, 648, 475, 470, 878, 256, 197,\n",
       "       368, 210, 281, 664, 644, 118, 140, 282,   9, 172, 403, 631, 319,\n",
       "        58, 115, 625, 414, 911, 858, 735, 168, 412, 845, 130,  16, 364,\n",
       "       362, 785, 518, 596, 856, 879, 720, 280, 480,  48, 457, 897, 367,\n",
       "       628, 541, 195, 873, 300, 691, 258, 751,   7, 212, 128, 745, 876,\n",
       "       294,  21, 481, 225, 435, 904, 716, 622, 404, 730, 323, 301, 629,\n",
       "        27, 836, 847, 408, 738, 508, 166, 520, 572, 859, 196, 871, 444,\n",
       "       148, 288, 650, 662, 766, 164, 692, 357, 208, 672, 122, 593, 360,\n",
       "       152, 375, 900, 524, 355, 584, 763, 591, 289, 389, 559, 571, 680,\n",
       "       397, 760, 530,  43, 653, 654, 219, 638, 645, 555,  62, 194, 886,\n",
       "       180,  55, 149, 839, 199, 496, 224,   5, 647, 450, 338, 329,  30,\n",
       "       392, 576, 285, 436, 634, 252,  92, 626, 862, 495,   4, 176, 837,\n",
       "       400, 254, 113, 497, 416, 488, 181, 768, 665, 781, 754, 370, 717,\n",
       "       308, 377, 829, 331, 798,   1, 459, 135, 460, 703, 635, 425, 381,\n",
       "       802, 441, 202, 660, 881, 761, 327, 461, 376, 709, 371, 548, 332,\n",
       "       832, 233, 838, 449,   6, 661, 150, 146, 901, 782, 718, 265, 774,\n",
       "       494, 772, 209, 509, 380, 369, 621, 307, 296, 111, 485, 292, 877,\n",
       "        52, 479, 920, 784, 222,  51, 507, 755, 315, 909, 819,  53, 699,\n",
       "       101, 499, 744, 676, 299, 500, 854, 534, 298, 228, 535, 309, 402,\n",
       "       133,   2, 828, 583, 452,  69, 824, 399,  28, 372, 290, 813, 532,\n",
       "       710, 918, 492, 486, 439, 325, 905, 335, 293, 267, 693, 227, 502,\n",
       "       579, 201, 373, 614, 913, 537, 573, 623, 870, 491, 874, 544, 453,\n",
       "       678, 303, 615, 821, 630, 673, 226, 585, 287, 311, 358, 670, 387,\n",
       "       169, 451, 446, 454, 505, 394,  68, 243, 844, 487,  90, 915, 731,\n",
       "        26, 235, 203, 543, 587, 182, 800, 842, 610, 566, 771, 833, 525,\n",
       "       542, 539, 601,  89, 510, 619, 552, 639, 592, 637, 655, 557, 440,\n",
       "       617,  54, 795, 734, 883, 589, 275, 736, 613, 110, 415, 748, 568,\n",
       "       825, 550, 792, 407, 330, 249, 658, 109, 633,  94, 411, 521, 276,\n",
       "       504, 528, 892, 627, 560, 908, 363, 707, 378, 671, 545, 260, 546,\n",
       "       788, 750, 618, 607, 912, 345, 641, 807, 887, 666, 767,   3, 503,\n",
       "       869, 379, 708, 690, 689, 321, 757, 830, 685, 656, 724, 112, 848,\n",
       "       205, 501, 398, 462,  98, 569, 602, 246, 295, 669, 177, 727, 860,\n",
       "       467, 514, 333, 895, 420, 582, 473, 674, 536, 464, 564, 646, 855,\n",
       "       259, 667, 851, 753,   0, 834, 198, 426, 244, 898, 888, 827, 395,\n",
       "       705, 749, 791, 773, 867, 248, 490, 747, 565, 468, 429, 549, 469,\n",
       "       762, 422, 526, 352, 157, 841, 424, 793, 663, 611, 636, 192, 728,\n",
       "       200, 354, 366, 643, 533, 608, 396, 711, 561, 694, 714, 361, 443,\n",
       "       250, 570, 688, 423, 712, 706, 849, 527, 743, 511, 353, 538, 725,\n",
       "       739, 681, 675, 551, 659, 437, 789, 715, 204, 919, 586, 818, 588,\n",
       "       606, 553, 448, 801, 732, 657, 516, 809, 752, 612, 719, 642, 746,\n",
       "       880, 796, 640, 783, 840, 529, 687, 547, 737, 733, 852, 517, 759,\n",
       "       826, 668, 679, 419, 401, 580, 700, 861, 581, 797, 820, 616, 686,\n",
       "       907, 498, 328, 803, 609, 808, 756, 698, 831, 917, 882, 758, 863,\n",
       "       729, 314, 701, 835, 775, 868, 603, 713, 697, 438, 445, 515, 916,\n",
       "       843, 726, 823, 899, 850, 853, 790, 822, 814, 884, 885, 914])"
      ]
     },
     "execution_count": 75,
     "metadata": {},
     "output_type": "execute_result"
    }
   ],
   "source": [
    "idx = np.argsort(norms)[::-1]\n",
    "idx"
   ]
  },
  {
   "cell_type": "code",
   "execution_count": 95,
   "metadata": {},
   "outputs": [
    {
     "data": {
      "text/plain": [
       "<matplotlib.image.AxesImage at 0x7f285fee0e48>"
      ]
     },
     "execution_count": 95,
     "metadata": {},
     "output_type": "execute_result"
    },
    {
     "data": {
      "image/png": "[encoded data removed]",
      "text/plain": [
       "<matplotlib.figure.Figure at 0x7f285ff20c88>"
      ]
     },
     "metadata": {},
     "output_type": "display_data"
    }
   ],
   "source": [
    "state = st[0][890]\n",
    "img = sum([state[:,:,i]*(i+1) for i in [0, 1, 2, 3, 4]])\n",
    "plt.imshow(img)"
   ]
  },
  {
   "cell_type": "code",
   "execution_count": 89,
   "metadata": {},
   "outputs": [
    {
     "data": {
      "text/plain": [
       "array([[0., 0., 0., 0., 0., 0., 0., 0.],\n",
       "       [0., 0., 0., 0., 0., 0., 1., 0.],\n",
       "       [0., 0., 0., 0., 0., 0., 0., 0.],\n",
       "       [0., 0., 0., 0., 0., 0., 0., 0.],\n",
       "       [0., 0., 0., 0., 0., 0., 0., 0.],\n",
       "       [0., 0., 0., 0., 0., 0., 0., 0.],\n",
       "       [0., 0., 0., 0., 0., 0., 0., 0.],\n",
       "       [0., 0., 0., 0., 0., 0., 0., 0.]])"
      ]
     },
     "execution_count": 89,
     "metadata": {},
     "output_type": "execute_result"
    }
   ],
   "source": [
    "st[0][410][:,:,4]"
   ]
  },
  {
   "cell_type": "code",
   "execution_count": 90,
   "metadata": {},
   "outputs": [
    {
     "data": {
      "text/plain": [
       "array([[0., 0., 0., 0., 0., 0., 0., 0.],\n",
       "       [0., 0., 0., 0., 0., 0., 1., 0.],\n",
       "       [0., 0., 0., 0., 0., 0., 0., 0.],\n",
       "       [0., 0., 0., 0., 0., 0., 0., 0.],\n",
       "       [0., 0., 0., 0., 0., 0., 0., 0.],\n",
       "       [0., 0., 0., 0., 0., 0., 0., 0.],\n",
       "       [0., 0., 0., 0., 0., 0., 0., 0.],\n",
       "       [0., 0., 0., 0., 0., 0., 0., 0.]])"
      ]
     },
     "execution_count": 90,
     "metadata": {},
     "output_type": "execute_result"
    }
   ],
   "source": [
    "st[0][410][:,:,1]"
   ]
  },
  {
   "cell_type": "code",
   "execution_count": 80,
   "metadata": {},
   "outputs": [
    {
     "data": {
      "text/plain": [
       "21.012585"
      ]
     },
     "execution_count": 80,
     "metadata": {},
     "output_type": "execute_result"
    }
   ],
   "source": [
    "norms[410]"
   ]
  },
  {
   "cell_type": "code",
   "execution_count": 134,
   "metadata": {},
   "outputs": [
    {
     "data": {
      "text/plain": [
       "<matplotlib.image.AxesImage at 0x7f01d1973908>"
      ]
     },
     "execution_count": 134,
     "metadata": {},
     "output_type": "execute_result"
    },
    {
     "data": {
      "image/png": "[encoded data removed]",
      "text/plain": [
       "<matplotlib.figure.Figure at 0x7f01d1a964e0>"
      ]
     },
     "metadata": {},
     "output_type": "display_data"
    }
   ],
   "source": [
    "plt.imshow(state[:,:,4])"
   ]
  },
  {
   "cell_type": "code",
   "execution_count": 135,
   "metadata": {},
   "outputs": [
    {
     "data": {
      "text/plain": [
       "<matplotlib.image.AxesImage at 0x7f01d1543160>"
      ]
     },
     "execution_count": 135,
     "metadata": {},
     "output_type": "execute_result"
    },
    {
     "data": {
      "image/png": "[encoded data removed]",
      "text/plain": [
       "<matplotlib.figure.Figure at 0x7f01d1946a20>"
      ]
     },
     "metadata": {},
     "output_type": "display_data"
    }
   ],
   "source": [
    "plt.imshow(state[:,:,1])"
   ]
  },
  {
   "cell_type": "code",
   "execution_count": 96,
   "metadata": {},
   "outputs": [
    {
     "name": "stdout",
     "output_type": "stream",
     "text": [
      "INFO:tensorflow:Restoring parameters from snake_models/dqn/boltzmann_8x8e999_5d/model-6\n"
     ]
    },
    {
     "data": {
      "text/plain": [
       "array([[42.903915, 43.1573  , 43.29431 ]], dtype=float32)"
      ]
     },
     "execution_count": 96,
     "metadata": {},
     "output_type": "execute_result"
    }
   ],
   "source": [
    "#state = st[20][0]\n",
    "#state = np.rot90(state)\n",
    "aa.get_q_values([state], gpu_id=2, from_epoch=6)"
   ]
  },
  {
   "cell_type": "code",
   "execution_count": 89,
   "metadata": {},
   "outputs": [
    {
     "data": {
      "text/plain": [
       "array([11.058722 ,  0.8006149, 26.021236 ], dtype=float32)"
      ]
     },
     "execution_count": 89,
     "metadata": {},
     "output_type": "execute_result"
    }
   ],
   "source": [
    "qs[-2]"
   ]
  },
  {
   "cell_type": "code",
   "execution_count": 78,
   "metadata": {},
   "outputs": [
    {
     "name": "stdout",
     "output_type": "stream",
     "text": [
      "INFO:tensorflow:Restoring parameters from snake_models/dqn/boltzmann_8x8e999/model-44\n"
     ]
    }
   ],
   "source": [
    "qs = aa.get_q_values(st[4], gpu_id=2, from_epoch=44)"
   ]
  },
  {
   "cell_type": "code",
   "execution_count": 40,
   "metadata": {},
   "outputs": [
    {
     "data": {
      "text/plain": [
       "[184,\n",
       " 275,\n",
       " 233,\n",
       " 314,\n",
       " 220,\n",
       " 255,\n",
       " 354,\n",
       " 304,\n",
       " 402,\n",
       " 433,\n",
       " 347,\n",
       " 405,\n",
       " 457,\n",
       " 420,\n",
       " 472,\n",
       " 548,\n",
       " 541,\n",
       " 556,\n",
       " 566,\n",
       " 713,\n",
       " 672,\n",
       " 590,\n",
       " 593,\n",
       " 678,\n",
       " 685,\n",
       " 693,\n",
       " 712,\n",
       " 882,\n",
       " 809,\n",
       " 784,\n",
       " 682,\n",
       " 612,\n",
       " 762,\n",
       " 738,\n",
       " 708,\n",
       " 865,\n",
       " 894,\n",
       " 763,\n",
       " 884,\n",
       " 953,\n",
       " 765,\n",
       " 802,\n",
       " 860,\n",
       " 703,\n",
       " 1011,\n",
       " 874,\n",
       " 861,\n",
       " 824,\n",
       " 711,\n",
       " 1083,\n",
       " 805,\n",
       " 857,\n",
       " 705,\n",
       " 721,\n",
       " 816,\n",
       " 730,\n",
       " 778,\n",
       " 753,\n",
       " 838,\n",
       " 1034,\n",
       " 825,\n",
       " 798,\n",
       " 786,\n",
       " 829,\n",
       " 798,\n",
       " 807,\n",
       " 783,\n",
       " 1045,\n",
       " 741,\n",
       " 967,\n",
       " 828,\n",
       " 811,\n",
       " 800,\n",
       " 875,\n",
       " 880,\n",
       " 935,\n",
       " 879,\n",
       " 723,\n",
       " 872,\n",
       " 808,\n",
       " 916,\n",
       " 966,\n",
       " 1132,\n",
       " 756,\n",
       " 977,\n",
       " 882,\n",
       " 885,\n",
       " 884,\n",
       " 875,\n",
       " 745,\n",
       " 824,\n",
       " 829,\n",
       " 945,\n",
       " 816,\n",
       " 976,\n",
       " 800,\n",
       " 780,\n",
       " 778,\n",
       " 666,\n",
       " 861]"
      ]
     },
     "execution_count": 40,
     "metadata": {},
     "output_type": "execute_result"
    }
   ],
   "source": [
    "lengths"
   ]
  },
  {
   "cell_type": "code",
   "execution_count": 6,
   "metadata": {},
   "outputs": [
    {
     "data": {
      "image/png": "[encoded data removed]",
      "text/plain": [
       "<matplotlib.figure.Figure at 0x7ff0f00584e0>"
      ]
     },
     "metadata": {},
     "output_type": "display_data"
    },
    {
     "data": {
      "text/plain": [
       "10"
      ]
     },
     "execution_count": 6,
     "metadata": {},
     "output_type": "execute_result"
    },
    {
     "data": {
      "image/png": "[encoded data removed]",
      "text/plain": [
       "<matplotlib.figure.Figure at 0x7ff0f00584e0>"
      ]
     },
     "metadata": {},
     "output_type": "display_data"
    }
   ],
   "source": [
    "aa.play(gpu_id=1, max_episode_length=100, from_epoch=44)"
   ]
  },
  {
   "cell_type": "code",
   "execution_count": null,
   "metadata": {},
   "outputs": [],
   "source": []
  }
 ],
 "metadata": {
  "kernelspec": {
   "display_name": "Python 3",
   "language": "python",
   "name": "python3"
  },
  "language_info": {
   "codemirror_mode": {
    "name": "ipython",
    "version": 3
   },
   "file_extension": ".py",
   "mimetype": "text/x-python",
   "name": "python",
   "nbconvert_exporter": "python",
   "pygments_lexer": "ipython3",
   "version": "3.5.2"
  }
 },
 "nbformat": 4,
 "nbformat_minor": 2
}
