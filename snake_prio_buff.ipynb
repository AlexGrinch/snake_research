{
 "cells": [
  {
   "cell_type": "code",
   "execution_count": null,
   "metadata": {},
   "outputs": [],
   "source": [
    "import t3f\n",
    "import tensorflow as tf\n",
    "import numpy as np\n",
    "import os\n",
    "import matplotlib.pyplot as plt\n",
    "%matplotlib inline"
   ]
  },
  {
   "cell_type": "code",
   "execution_count": null,
   "metadata": {
    "collapsed": true
   },
   "outputs": [],
   "source": [
    "from environments import Snake\n",
    "from openai_methods import ReplayBuffer, PrioritizedReplayBuffer, LinearSchedule"
   ]
  },
  {
   "cell_type": "markdown",
   "metadata": {},
   "source": [
    "# Experiments"
   ]
  },
  {
   "cell_type": "code",
   "execution_count": null,
   "metadata": {
    "collapsed": true
   },
   "outputs": [],
   "source": [
    "def tf_repeat(x, num):\n",
    "    u = tf.reshape(x, (-1, 1))\n",
    "    ones = tf.ones(1, dtype=tf.int32)\n",
    "    u = tf.tile(u, tf.concat([ones, num], axis=0))\n",
    "    u = tf.reshape(u, (-1, 1))\n",
    "    return u\n",
    "\n",
    "class QQTT:\n",
    "    \n",
    "    def __init__(self, num_actions, num_colors=4, state_shape=[8, 8, 1],\n",
    "                 tt_rank=16, optimizer=tf.train.AdamOptimizer(2.5e-4), \n",
    "                 dtype=tf.float32, scope=\"qqtt_network\", reuse=False):\n",
    "        \n",
    "        input_shape = np.prod(state_shape) * [num_colors,] + [num_actions,]\n",
    "        \n",
    "        with tf.variable_scope(scope, reuse=reuse):\n",
    "            \n",
    "        # random initialization of Q-tensor\n",
    "            q0init = t3f.random_tensor(shape=input_shape, tt_rank=tt_rank, stddev=10.)\n",
    "            q0init = t3f.cast(q0init, dtype=dtype)\n",
    "            q0 = t3f.get_variable('Q', initializer=q0init)\n",
    "        \n",
    "            self.input_states = tf.placeholder(dtype=tf.int32, shape=[None]+state_shape)\n",
    "            self.input_actions = tf.placeholder(dtype=tf.int32, shape=[None])\n",
    "            self.input_targets = tf.placeholder(dtype=dtype, shape=[None])\n",
    "            self.prio_weights = tf.placeholder(dtype=dtype, shape=[None])\n",
    "\n",
    "            reshaped_s = tf.reshape(self.input_states, (-1, np.prod(state_shape)))\n",
    "            reshaped_a = tf.reshape(self.input_actions, (-1, 1))\n",
    "            input_s_and_a = tf.concat([reshaped_s, reshaped_a], axis=1) \n",
    "            self.q_selected = t3f.gather_nd(q0, input_s_and_a, dtype=dtype)\n",
    "\n",
    "            reshaped_s_ = tf.reshape(self.input_states, [-1]+state_shape)\n",
    "            \n",
    "            # some shitty code\n",
    "            s_a_idx = tf.concat(num_actions * [reshaped_s], axis=0) \n",
    "            actions_range = tf.range(start=0, limit=num_actions)\n",
    "            a_idx = tf_repeat(actions_range, tf.shape(self.input_states)[0:1])\n",
    "            s_a_idx = tf.concat([s_a_idx, a_idx], axis=1)\n",
    "            vals = t3f.gather_nd(q0, s_a_idx, dtype=dtype)\n",
    "            q_values = tf.transpose(tf.reshape(vals, shape=(num_actions, -1)))\n",
    "            # shitty code ends here\n",
    "            \n",
    "            self.q_argmax = tf.argmax(q_values, axis=1)\n",
    "            self.q_max = tf.reduce_max(q_values, axis=1)\n",
    "            \n",
    "            # self.loss = tf.losses.huber_loss(self.q_selected, self.input_targets)\n",
    "            self.loss = tf.losses.huber_loss(self.q_selected, self.input_targets)\n",
    "            self.td_error = self.q_selected - self.input_targets\n",
    "            self.update_model = optimizer.minimize(self.loss)\n",
    "        \n",
    "    def update(self, sess, states, actions, targets, weights):\n",
    "        feed_dict = {self.input_states:states,\n",
    "                     self.input_actions:actions,\n",
    "                     self.input_targets:targets,\n",
    "                     self.prio_weights:weights}\n",
    "        _, td = sess.run([self.update_model, self.td_error], feed_dict)\n",
    "        return td\n",
    "        \n",
    "        \n",
    "    def get_q_action_values(self, sess, states, actions):\n",
    "        feed_dict = {self.input_states:states,\n",
    "                     self.input_actions:actions}\n",
    "        return sess.run(self.q_selected, feed_dict=feed_dict)\n",
    "        \n",
    "    def get_q_argmax(self, sess, states):\n",
    "        feed_dict = {self.input_states:states}\n",
    "        return sess.run(self.q_argmax, feed_dict=feed_dict)\n",
    "    \n",
    "    def get_q_max(self, sess, states):\n",
    "        feed_dict = {self.input_states:states}\n",
    "        return sess.run(self.q_max, feed_dict=feed_dict)"
   ]
  },
  {
   "cell_type": "code",
   "execution_count": null,
   "metadata": {},
   "outputs": [],
   "source": [
    "batch_size = 64\n",
    "replay_memory_size=50000\n",
    "replay_start_size=10000\n",
    "init_eps=1\n",
    "final_eps=0.1\n",
    "annealing_steps=100000\n",
    "gamma=0.999\n",
    "max_episode_length=50\n",
    "num_episodes = 1000000\n",
    "\n",
    "prioritized_replay_alpha=0.6\n",
    "prioritized_replay_beta0=0.4\n",
    "prioritized_replay_beta_iters=None\n",
    "prioritized_replay_eps=1e-6\n",
    "\n",
    "\n",
    "if prioritized_replay_beta_iters is None:\n",
    "    prioritized_replay_beta_iters = max_episode_length\n",
    "beta_schedule = LinearSchedule(prioritized_replay_beta_iters,\n",
    "                               initial_p=prioritized_replay_beta0,\n",
    "                               final_p=1.0)\n",
    "\n",
    "\n",
    "replay_buffer = ReplayBuffer(replay_memory_size)"
   ]
  },
  {
   "cell_type": "code",
   "execution_count": 5,
   "metadata": {},
   "outputs": [],
   "source": [
    "qqtt_agent = QQTT(4, state_shape=[4, 4, 1], scope=\"qtt_snake\")"
   ]
  },
  {
   "cell_type": "code",
   "execution_count": 6,
   "metadata": {
    "collapsed": true
   },
   "outputs": [],
   "source": [
    "train_env = Snake(grid_size=(4, 4))\n",
    "\n",
    "frame_count = 0\n",
    "while (frame_count < replay_start_size):\n",
    "    s = train_env.reset()\n",
    "    for time_step in range(max_episode_length):\n",
    "        a = np.random.randint(4)\n",
    "        s_, r, end = train_env.step(a)\n",
    "        if r == 0: r = -0.01\n",
    "        replay_buffer.add(s, a, r, s_, float(end))\n",
    "        s = s_\n",
    "        frame_count += 1\n",
    "        if end:\n",
    "            break"
   ]
  },
  {
   "cell_type": "code",
   "execution_count": 7,
   "metadata": {
    "collapsed": true
   },
   "outputs": [],
   "source": [
    "sess = tf.Session()\n",
    "sess.run(tf.global_variables_initializer())"
   ]
  },
  {
   "cell_type": "code",
   "execution_count": 8,
   "metadata": {},
   "outputs": [
    {
     "name": "stdout",
     "output_type": "stream",
     "text": [
      "Train info: -1.0 -1\n",
      "Train info: -0.816 2\n",
      "Train info: -0.676 2\n",
      "Train info: -0.294 3\n"
     ]
    },
    {
     "name": "stderr",
     "output_type": "stream",
     "text": [
      "/Users/mathemage/anaconda3/envs/tf/lib/python3.5/site-packages/ipykernel/__main__.py:24: RuntimeWarning: invalid value encountered in multiply\n"
     ]
    },
    {
     "name": "stdout",
     "output_type": "stream",
     "text": [
      "Train info: -0.112 2\n",
      "Train info: -0.902 1\n",
      "Train info: -0.878 1\n",
      "Train info: -0.88 1\n",
      "Train info: -0.91 1\n",
      "Train info: -0.888 1\n",
      "Train info: -0.88 1\n"
     ]
    },
    {
     "ename": "KeyboardInterrupt",
     "evalue": "",
     "output_type": "error",
     "traceback": [
      "\u001b[0;31m---------------------------------------------------------------------------\u001b[0m",
      "\u001b[0;31mKeyboardInterrupt\u001b[0m                         Traceback (most recent call last)",
      "\u001b[0;32m<ipython-input-8-9afd3b943631>\u001b[0m in \u001b[0;36m<module>\u001b[0;34m()\u001b[0m\n\u001b[1;32m     21\u001b[0m             \u001b[0mobses_t\u001b[0m\u001b[0;34m,\u001b[0m \u001b[0mactions\u001b[0m\u001b[0;34m,\u001b[0m \u001b[0mrewards\u001b[0m\u001b[0;34m,\u001b[0m \u001b[0mobses_tp1\u001b[0m\u001b[0;34m,\u001b[0m \u001b[0mdones\u001b[0m \u001b[0;34m=\u001b[0m \u001b[0mexperience\u001b[0m\u001b[0;34m\u001b[0m\u001b[0m\n\u001b[1;32m     22\u001b[0m             \u001b[0mweights\u001b[0m\u001b[0;34m,\u001b[0m \u001b[0mbatch_idxes\u001b[0m \u001b[0;34m=\u001b[0m \u001b[0mnp\u001b[0m\u001b[0;34m.\u001b[0m\u001b[0mones_like\u001b[0m\u001b[0;34m(\u001b[0m\u001b[0mrewards\u001b[0m\u001b[0;34m)\u001b[0m\u001b[0;34m,\u001b[0m \u001b[0;32mNone\u001b[0m\u001b[0;34m\u001b[0m\u001b[0m\n\u001b[0;32m---> 23\u001b[0;31m             \u001b[0mq_\u001b[0m \u001b[0;34m=\u001b[0m \u001b[0mqqtt_agent\u001b[0m\u001b[0;34m.\u001b[0m\u001b[0mget_q_max\u001b[0m\u001b[0;34m(\u001b[0m\u001b[0msess\u001b[0m\u001b[0;34m,\u001b[0m \u001b[0mobses_tp1\u001b[0m\u001b[0;34m)\u001b[0m\u001b[0;34m\u001b[0m\u001b[0m\n\u001b[0m\u001b[1;32m     24\u001b[0m             \u001b[0mtargets\u001b[0m \u001b[0;34m=\u001b[0m \u001b[0mrewards\u001b[0m \u001b[0;34m+\u001b[0m \u001b[0mgamma\u001b[0m \u001b[0;34m*\u001b[0m \u001b[0mq_\u001b[0m \u001b[0;34m*\u001b[0m \u001b[0;34m(\u001b[0m\u001b[0;36m1.\u001b[0m \u001b[0;34m-\u001b[0m \u001b[0mdones\u001b[0m\u001b[0;34m)\u001b[0m\u001b[0;34m\u001b[0m\u001b[0m\n\u001b[1;32m     25\u001b[0m \u001b[0;34m\u001b[0m\u001b[0m\n",
      "\u001b[0;32m<ipython-input-3-c1213715ac66>\u001b[0m in \u001b[0;36mget_q_max\u001b[0;34m(self, sess, states)\u001b[0m\n\u001b[1;32m     70\u001b[0m     \u001b[0;32mdef\u001b[0m \u001b[0mget_q_max\u001b[0m\u001b[0;34m(\u001b[0m\u001b[0mself\u001b[0m\u001b[0;34m,\u001b[0m \u001b[0msess\u001b[0m\u001b[0;34m,\u001b[0m \u001b[0mstates\u001b[0m\u001b[0;34m)\u001b[0m\u001b[0;34m:\u001b[0m\u001b[0;34m\u001b[0m\u001b[0m\n\u001b[1;32m     71\u001b[0m         \u001b[0mfeed_dict\u001b[0m \u001b[0;34m=\u001b[0m \u001b[0;34m{\u001b[0m\u001b[0mself\u001b[0m\u001b[0;34m.\u001b[0m\u001b[0minput_states\u001b[0m\u001b[0;34m:\u001b[0m\u001b[0mstates\u001b[0m\u001b[0;34m}\u001b[0m\u001b[0;34m\u001b[0m\u001b[0m\n\u001b[0;32m---> 72\u001b[0;31m         \u001b[0;32mreturn\u001b[0m \u001b[0msess\u001b[0m\u001b[0;34m.\u001b[0m\u001b[0mrun\u001b[0m\u001b[0;34m(\u001b[0m\u001b[0mself\u001b[0m\u001b[0;34m.\u001b[0m\u001b[0mq_max\u001b[0m\u001b[0;34m,\u001b[0m \u001b[0mfeed_dict\u001b[0m\u001b[0;34m=\u001b[0m\u001b[0mfeed_dict\u001b[0m\u001b[0;34m)\u001b[0m\u001b[0;34m\u001b[0m\u001b[0m\n\u001b[0m",
      "\u001b[0;32m~/anaconda3/envs/tf/lib/python3.5/site-packages/tensorflow/python/client/session.py\u001b[0m in \u001b[0;36mrun\u001b[0;34m(self, fetches, feed_dict, options, run_metadata)\u001b[0m\n\u001b[1;32m    893\u001b[0m     \u001b[0;32mtry\u001b[0m\u001b[0;34m:\u001b[0m\u001b[0;34m\u001b[0m\u001b[0m\n\u001b[1;32m    894\u001b[0m       result = self._run(None, fetches, feed_dict, options_ptr,\n\u001b[0;32m--> 895\u001b[0;31m                          run_metadata_ptr)\n\u001b[0m\u001b[1;32m    896\u001b[0m       \u001b[0;32mif\u001b[0m \u001b[0mrun_metadata\u001b[0m\u001b[0;34m:\u001b[0m\u001b[0;34m\u001b[0m\u001b[0m\n\u001b[1;32m    897\u001b[0m         \u001b[0mproto_data\u001b[0m \u001b[0;34m=\u001b[0m \u001b[0mtf_session\u001b[0m\u001b[0;34m.\u001b[0m\u001b[0mTF_GetBuffer\u001b[0m\u001b[0;34m(\u001b[0m\u001b[0mrun_metadata_ptr\u001b[0m\u001b[0;34m)\u001b[0m\u001b[0;34m\u001b[0m\u001b[0m\n",
      "\u001b[0;32m~/anaconda3/envs/tf/lib/python3.5/site-packages/tensorflow/python/client/session.py\u001b[0m in \u001b[0;36m_run\u001b[0;34m(self, handle, fetches, feed_dict, options, run_metadata)\u001b[0m\n\u001b[1;32m   1126\u001b[0m     \u001b[0;32mif\u001b[0m \u001b[0mfinal_fetches\u001b[0m \u001b[0;32mor\u001b[0m \u001b[0mfinal_targets\u001b[0m \u001b[0;32mor\u001b[0m \u001b[0;34m(\u001b[0m\u001b[0mhandle\u001b[0m \u001b[0;32mand\u001b[0m \u001b[0mfeed_dict_tensor\u001b[0m\u001b[0;34m)\u001b[0m\u001b[0;34m:\u001b[0m\u001b[0;34m\u001b[0m\u001b[0m\n\u001b[1;32m   1127\u001b[0m       results = self._do_run(handle, final_targets, final_fetches,\n\u001b[0;32m-> 1128\u001b[0;31m                              feed_dict_tensor, options, run_metadata)\n\u001b[0m\u001b[1;32m   1129\u001b[0m     \u001b[0;32melse\u001b[0m\u001b[0;34m:\u001b[0m\u001b[0;34m\u001b[0m\u001b[0m\n\u001b[1;32m   1130\u001b[0m       \u001b[0mresults\u001b[0m \u001b[0;34m=\u001b[0m \u001b[0;34m[\u001b[0m\u001b[0;34m]\u001b[0m\u001b[0;34m\u001b[0m\u001b[0m\n",
      "\u001b[0;32m~/anaconda3/envs/tf/lib/python3.5/site-packages/tensorflow/python/client/session.py\u001b[0m in \u001b[0;36m_do_run\u001b[0;34m(self, handle, target_list, fetch_list, feed_dict, options, run_metadata)\u001b[0m\n\u001b[1;32m   1342\u001b[0m     \u001b[0;32mif\u001b[0m \u001b[0mhandle\u001b[0m \u001b[0;32mis\u001b[0m \u001b[0;32mNone\u001b[0m\u001b[0;34m:\u001b[0m\u001b[0;34m\u001b[0m\u001b[0m\n\u001b[1;32m   1343\u001b[0m       return self._do_call(_run_fn, self._session, feeds, fetches, targets,\n\u001b[0;32m-> 1344\u001b[0;31m                            options, run_metadata)\n\u001b[0m\u001b[1;32m   1345\u001b[0m     \u001b[0;32melse\u001b[0m\u001b[0;34m:\u001b[0m\u001b[0;34m\u001b[0m\u001b[0m\n\u001b[1;32m   1346\u001b[0m       \u001b[0;32mreturn\u001b[0m \u001b[0mself\u001b[0m\u001b[0;34m.\u001b[0m\u001b[0m_do_call\u001b[0m\u001b[0;34m(\u001b[0m\u001b[0m_prun_fn\u001b[0m\u001b[0;34m,\u001b[0m \u001b[0mself\u001b[0m\u001b[0;34m.\u001b[0m\u001b[0m_session\u001b[0m\u001b[0;34m,\u001b[0m \u001b[0mhandle\u001b[0m\u001b[0;34m,\u001b[0m \u001b[0mfeeds\u001b[0m\u001b[0;34m,\u001b[0m \u001b[0mfetches\u001b[0m\u001b[0;34m)\u001b[0m\u001b[0;34m\u001b[0m\u001b[0m\n",
      "\u001b[0;32m~/anaconda3/envs/tf/lib/python3.5/site-packages/tensorflow/python/client/session.py\u001b[0m in \u001b[0;36m_do_call\u001b[0;34m(self, fn, *args)\u001b[0m\n\u001b[1;32m   1348\u001b[0m   \u001b[0;32mdef\u001b[0m \u001b[0m_do_call\u001b[0m\u001b[0;34m(\u001b[0m\u001b[0mself\u001b[0m\u001b[0;34m,\u001b[0m \u001b[0mfn\u001b[0m\u001b[0;34m,\u001b[0m \u001b[0;34m*\u001b[0m\u001b[0margs\u001b[0m\u001b[0;34m)\u001b[0m\u001b[0;34m:\u001b[0m\u001b[0;34m\u001b[0m\u001b[0m\n\u001b[1;32m   1349\u001b[0m     \u001b[0;32mtry\u001b[0m\u001b[0;34m:\u001b[0m\u001b[0;34m\u001b[0m\u001b[0m\n\u001b[0;32m-> 1350\u001b[0;31m       \u001b[0;32mreturn\u001b[0m \u001b[0mfn\u001b[0m\u001b[0;34m(\u001b[0m\u001b[0;34m*\u001b[0m\u001b[0margs\u001b[0m\u001b[0;34m)\u001b[0m\u001b[0;34m\u001b[0m\u001b[0m\n\u001b[0m\u001b[1;32m   1351\u001b[0m     \u001b[0;32mexcept\u001b[0m \u001b[0merrors\u001b[0m\u001b[0;34m.\u001b[0m\u001b[0mOpError\u001b[0m \u001b[0;32mas\u001b[0m \u001b[0me\u001b[0m\u001b[0;34m:\u001b[0m\u001b[0;34m\u001b[0m\u001b[0m\n\u001b[1;32m   1352\u001b[0m       \u001b[0mmessage\u001b[0m \u001b[0;34m=\u001b[0m \u001b[0mcompat\u001b[0m\u001b[0;34m.\u001b[0m\u001b[0mas_text\u001b[0m\u001b[0;34m(\u001b[0m\u001b[0me\u001b[0m\u001b[0;34m.\u001b[0m\u001b[0mmessage\u001b[0m\u001b[0;34m)\u001b[0m\u001b[0;34m\u001b[0m\u001b[0m\n",
      "\u001b[0;32m~/anaconda3/envs/tf/lib/python3.5/site-packages/tensorflow/python/client/session.py\u001b[0m in \u001b[0;36m_run_fn\u001b[0;34m(session, feed_dict, fetch_list, target_list, options, run_metadata)\u001b[0m\n\u001b[1;32m   1327\u001b[0m           return tf_session.TF_Run(session, options,\n\u001b[1;32m   1328\u001b[0m                                    \u001b[0mfeed_dict\u001b[0m\u001b[0;34m,\u001b[0m \u001b[0mfetch_list\u001b[0m\u001b[0;34m,\u001b[0m \u001b[0mtarget_list\u001b[0m\u001b[0;34m,\u001b[0m\u001b[0;34m\u001b[0m\u001b[0m\n\u001b[0;32m-> 1329\u001b[0;31m                                    status, run_metadata)\n\u001b[0m\u001b[1;32m   1330\u001b[0m \u001b[0;34m\u001b[0m\u001b[0m\n\u001b[1;32m   1331\u001b[0m     \u001b[0;32mdef\u001b[0m \u001b[0m_prun_fn\u001b[0m\u001b[0;34m(\u001b[0m\u001b[0msession\u001b[0m\u001b[0;34m,\u001b[0m \u001b[0mhandle\u001b[0m\u001b[0;34m,\u001b[0m \u001b[0mfeed_dict\u001b[0m\u001b[0;34m,\u001b[0m \u001b[0mfetch_list\u001b[0m\u001b[0;34m)\u001b[0m\u001b[0;34m:\u001b[0m\u001b[0;34m\u001b[0m\u001b[0m\n",
      "\u001b[0;31mKeyboardInterrupt\u001b[0m: "
     ]
    }
   ],
   "source": [
    "train_rewards = []\n",
    "for i in range(num_episodes):\n",
    "    s = train_env.reset()\n",
    "    R = 0\n",
    "    for time_step in range(max_episode_length):\n",
    "        if np.random.rand() > 0.01:\n",
    "            a = qqtt_agent.get_q_argmax(sess, [s])[0]\n",
    "        else:\n",
    "            a = np.random.randint(0, 4)\n",
    "        \n",
    "        s_, r, done = train_env.step(a)\n",
    "        R += r\n",
    "        if r == 0: r = -0.01\n",
    "        replay_buffer.add(s, a, r, s_, float(done))\n",
    "        \n",
    "        s = s_\n",
    "\n",
    "        if time_step % 1 == 0:\n",
    "            \n",
    "            experience = replay_buffer.sample(batch_size)\n",
    "            obses_t, actions, rewards, obses_tp1, dones = experience\n",
    "            weights, batch_idxes = np.ones_like(rewards), None\n",
    "            q_ = qqtt_agent.get_q_max(sess, obses_tp1)\n",
    "            targets = rewards + gamma * q_ * (1. - dones)\n",
    "            \n",
    "            td_errors = qqtt_agent.update(sess, obses_t, actions, targets, weights)\n",
    "            new_priorities = np.abs(td_errors) + prioritized_replay_eps\n",
    "            # replay_buffer.update_priorities(batch_idxes, new_priorities)\n",
    "            \n",
    "            \n",
    "        if done: break\n",
    "    train_rewards.append(R) \n",
    "    if i % 500 == 0:\n",
    "        avg_reward = np.mean(train_rewards[-500:])\n",
    "        max_reward = np.max(train_rewards[-500:])\n",
    "        print(\"Train info:\", avg_reward, max_reward) "
   ]
  },
  {
   "cell_type": "code",
   "execution_count": null,
   "metadata": {
    "collapsed": true
   },
   "outputs": [],
   "source": []
  }
 ],
 "metadata": {
  "kernelspec": {
   "display_name": "Environment (conda_tf)",
   "language": "python",
   "name": "conda_tf"
  },
  "language_info": {
   "codemirror_mode": {
    "name": "ipython",
    "version": 3
   },
   "file_extension": ".py",
   "mimetype": "text/x-python",
   "name": "python",
   "nbconvert_exporter": "python",
   "pygments_lexer": "ipython3",
   "version": "3.5.4"
  }
 },
 "nbformat": 4,
 "nbformat_minor": 2
}
