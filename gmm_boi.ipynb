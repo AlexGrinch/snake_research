{
 "cells": [
  {
   "cell_type": "code",
   "execution_count": 1,
   "metadata": {},
   "outputs": [
    {
     "name": "stderr",
     "output_type": "stream",
     "text": [
      "/Users/mathemage/anaconda3/envs/tf/lib/python3.5/importlib/_bootstrap.py:222: RuntimeWarning: compiletime version 3.6 of module 'tensorflow.python.framework.fast_tensor_util' does not match runtime version 3.5\n",
      "  return f(*args, **kwds)\n",
      "/Users/mathemage/anaconda3/envs/tf/lib/python3.5/site-packages/h5py/__init__.py:36: FutureWarning: Conversion of the second argument of issubdtype from `float` to `np.floating` is deprecated. In future, it will be treated as `np.float64 == np.dtype(float).type`.\n",
      "  from ._conv import register_converters as _register_converters\n"
     ]
    }
   ],
   "source": [
    "import os\n",
    "import time\n",
    "import random\n",
    "import numpy as np\n",
    "\n",
    "import tensorflow as tf\n",
    "import tensorflow.contrib.layers as layers\n",
    "\n",
    "import gym\n",
    "from gym import spaces\n",
    "from PIL import Image\n",
    "from collections import deque, namedtuple\n",
    "\n",
    "from IPython import display\n",
    "import matplotlib.pyplot as plt\n",
    "%matplotlib inline"
   ]
  },
  {
   "cell_type": "code",
   "execution_count": 2,
   "metadata": {
    "collapsed": true
   },
   "outputs": [],
   "source": [
    "from environments import Snake\n",
    "from new_agents import *"
   ]
  },
  {
   "cell_type": "code",
   "execution_count": 3,
   "metadata": {},
   "outputs": [],
   "source": [
    "env = Snake((8, 8))\n",
    "#aa = DuelDQNAgent(env=env, num_actions=3, state_shape=[8, 8, 5], \n",
    "#              save_path=\"snake_models\", model_name=\"test\")\n",
    "#aa = CatDQNAgent(env=env, num_actions=3, state_shape=[8, 8, 5], num_atoms=51,\n",
    "#                 save_path=\"snake_models\", model_name=\"test\")\n",
    "#aa = SACAgent(env=env, num_actions=3, temperature=0.05,\n",
    "#              save_path=\"snake_models\", model_name=\"test\")\n",
    "aa = GMMDQNAgent(env=env, num_actions=3, state_shape=[8, 8, 5],\n",
    "                   save_path=\"snake_models\", model_name=\"test3\")"
   ]
  },
  {
   "cell_type": "code",
   "execution_count": 4,
   "metadata": {
    "collapsed": true
   },
   "outputs": [],
   "source": [
    "aa.set_parameters(max_episode_length=1000, replay_memory_size=100000, replay_start_size=10000,\n",
    "                  discount_factor=0.999, final_eps=0.01, annealing_steps=100000)"
   ]
  },
  {
   "cell_type": "code",
   "execution_count": null,
   "metadata": {
    "scrolled": true
   },
   "outputs": [
    {
     "name": "stdout",
     "output_type": "stream",
     "text": [
      "frame count: 5328\n",
      "average reward: -0.858\n",
      "epsilon: 0.947\n",
      "average lifetime: 10.656\n",
      "-------------------------------\n",
      "frame count: 12126\n",
      "average reward: -0.822\n",
      "epsilon: 0.88\n",
      "average lifetime: 13.596\n",
      "-------------------------------\n",
      "frame count: 22137\n",
      "average reward: -0.746\n",
      "epsilon: 0.781\n",
      "average lifetime: 20.022\n",
      "-------------------------------\n",
      "frame count: 35153\n",
      "average reward: -0.642\n",
      "epsilon: 0.652\n",
      "average lifetime: 26.032\n",
      "-------------------------------\n"
     ]
    }
   ],
   "source": [
    "aa.train(gpu_id=-1, exploration=\"boltzmann\", save_freq=1000000, max_num_epochs=50, tau=1e-3, batch_size=32)"
   ]
  },
  {
   "cell_type": "code",
   "execution_count": 6,
   "metadata": {
    "collapsed": true
   },
   "outputs": [],
   "source": [
    "def kl_gaussians(m1, s1, m2, s2):\n",
    "    m1 = m1[:, :, None]\n",
    "    m2 = m2[:, None, :]\n",
    "    s1_2 = tf.square(s1)\n",
    "    s2_2 = tf.square(s2)\n",
    "    s1_2 = s1_2[:, :, None]\n",
    "    s2_2 = s2_2[:, None, :]\n",
    "    t1 = 0.5 * (tf.log(s2_2) - tf.log(s1_2))\n",
    "    t2 = (s1_2 + (m2 - m1) ** 2) / (2 * s2_2)\n",
    "    return t1 + t2 - 0.5"
   ]
  },
  {
   "cell_type": "code",
   "execution_count": 30,
   "metadata": {
    "collapsed": true
   },
   "outputs": [],
   "source": [
    "m1 = tf.placeholder(tf.float32, (None, 2))\n",
    "s1 = tf.placeholder(tf.float32, (None, 2))\n",
    "m2 = tf.placeholder(tf.float32, (None, 2))\n",
    "s2 = tf.placeholder(tf.float32, (None, 2))\n",
    "p1 = tf.placeholder(tf.float32, (None, 2))\n",
    "p2 = tf.placeholder(tf.float32, (None, 2))"
   ]
  },
  {
   "cell_type": "code",
   "execution_count": 8,
   "metadata": {
    "collapsed": true
   },
   "outputs": [],
   "source": [
    "sess = tf.Session()"
   ]
  },
  {
   "cell_type": "code",
   "execution_count": 48,
   "metadata": {
    "collapsed": true
   },
   "outputs": [],
   "source": [
    "feed_dict = {m1:np.random.rand(1, 2) * 1e-1, \n",
    "             s1:np.random.rand(1, 2) * 1e-1,\n",
    "             m2:np.random.rand(1, 2) * 1e-1,\n",
    "             s2:np.random.rand(1, 2) * 1e-1,\n",
    "             p1:np.array([[0.3, 0.7]]),\n",
    "             p2:np.array([[0.4, 0.6]])\n",
    "             }"
   ]
  },
  {
   "cell_type": "code",
   "execution_count": 49,
   "metadata": {},
   "outputs": [
    {
     "data": {
      "text/plain": [
       "array([[[1.2162083 , 1.2600183 ],\n",
       "        [0.25347954, 0.30460095]]], dtype=float32)"
      ]
     },
     "execution_count": 49,
     "metadata": {},
     "output_type": "execute_result"
    }
   ],
   "source": [
    "sess.run(kl_gaussians(m1, s1, m2, s2), feed_dict=feed_dict)"
   ]
  },
  {
   "cell_type": "code",
   "execution_count": 50,
   "metadata": {
    "collapsed": true
   },
   "outputs": [],
   "source": [
    "def kl_mixtures(p1, m1, s1, p2, m2, s2):\n",
    "    kl1 = kl_gaussians(m1, s1, m1, s1)\n",
    "    kl2 = kl_gaussians(m1, s1, m2, s2)\n",
    "    kl1 = tf.exp(-kl1)\n",
    "    kl2 = tf.exp(-kl2)\n",
    "\n",
    "    t1 = tf.einsum('abc,ac->ab', kl1, p1)\n",
    "    t2 = tf.einsum('abc,ac->ab', kl2, p2)\n",
    "    return tf.reduce_mean(tf.multiply(p1, tf.log(t1) - (tf.log(t2))))"
   ]
  },
  {
   "cell_type": "code",
   "execution_count": 51,
   "metadata": {},
   "outputs": [
    {
     "data": {
      "text/plain": [
       "0.106065795"
      ]
     },
     "execution_count": 51,
     "metadata": {},
     "output_type": "execute_result"
    }
   ],
   "source": [
    "sess.run(kl_mixtures(p1, m1, s1, p2, m2, s2), feed_dict=feed_dict)"
   ]
  },
  {
   "cell_type": "code",
   "execution_count": null,
   "metadata": {
    "collapsed": true
   },
   "outputs": [],
   "source": []
  }
 ],
 "metadata": {
  "kernelspec": {
   "display_name": "Environment (conda_tf)",
   "language": "python",
   "name": "conda_tf"
  },
  "language_info": {
   "codemirror_mode": {
    "name": "ipython",
    "version": 3
   },
   "file_extension": ".py",
   "mimetype": "text/x-python",
   "name": "python",
   "nbconvert_exporter": "python",
   "pygments_lexer": "ipython3",
   "version": "3.5.4"
  }
 },
 "nbformat": 4,
 "nbformat_minor": 2
}
