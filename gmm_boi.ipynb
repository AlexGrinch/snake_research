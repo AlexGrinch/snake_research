{
 "cells": [
  {
   "cell_type": "code",
   "execution_count": 1,
   "metadata": {},
   "outputs": [
    {
     "name": "stderr",
     "output_type": "stream",
     "text": [
      "/root/miniconda3/envs/tf/lib/python3.5/site-packages/h5py/__init__.py:36: FutureWarning: Conversion of the second argument of issubdtype from `float` to `np.floating` is deprecated. In future, it will be treated as `np.float64 == np.dtype(float).type`.\n",
      "  from ._conv import register_converters as _register_converters\n"
     ]
    }
   ],
   "source": [
    "import os\n",
    "import time\n",
    "import random\n",
    "import numpy as np\n",
    "\n",
    "import tensorflow as tf\n",
    "import tensorflow.contrib.layers as layers\n",
    "\n",
    "import gym\n",
    "from gym import spaces\n",
    "from PIL import Image\n",
    "from collections import deque, namedtuple\n",
    "\n",
    "from IPython import display\n",
    "import matplotlib.pyplot as plt\n",
    "%matplotlib inline"
   ]
  },
  {
   "cell_type": "code",
   "execution_count": 2,
   "metadata": {},
   "outputs": [],
   "source": [
    "from environments import Snake\n",
    "from new_agents import *"
   ]
  },
  {
   "cell_type": "code",
   "execution_count": 3,
   "metadata": {},
   "outputs": [],
   "source": [
    "env = Snake((8, 8))\n",
    "#aa = DuelDQNAgent(env=env, num_actions=3, state_shape=[8, 8, 5], \n",
    "#              save_path=\"snake_models\", model_name=\"test\")\n",
    "#aa = CatDQNAgent(env=env, num_actions=3, state_shape=[8, 8, 5], num_atoms=51,\n",
    "#                 save_path=\"snake_models\", model_name=\"test\")\n",
    "#aa = SACAgent(env=env, num_actions=3, temperature=0.05,\n",
    "#              save_path=\"snake_models\", model_name=\"test\")\n",
    "aa = GMMDQNAgent(env=env, num_actions=3, state_shape=[8, 8, 5],\n",
    "                   save_path=\"snake_models\", model_name=\"test_wasser\", metric='wasserstein')"
   ]
  },
  {
   "cell_type": "code",
   "execution_count": 4,
   "metadata": {},
   "outputs": [],
   "source": [
    "aa.set_parameters(max_episode_length=2000, replay_memory_size=100000, replay_start_size=10000,\n",
    "                  discount_factor=0.999, final_eps=0.01, annealing_steps=100000)"
   ]
  },
  {
   "cell_type": "code",
   "execution_count": null,
   "metadata": {
    "scrolled": true
   },
   "outputs": [
    {
     "name": "stdout",
     "output_type": "stream",
     "text": [
      "frame count: 4790\n",
      "average reward: -0.874\n",
      "epsilon: 0.953\n",
      "average lifetime: 9.58\n",
      "-------------------------------\n",
      "frame count: 11029\n",
      "average reward: -0.844\n",
      "epsilon: 0.891\n",
      "average lifetime: 12.478\n",
      "-------------------------------\n",
      "frame count: 18393\n",
      "average reward: -0.834\n",
      "epsilon: 0.818\n",
      "average lifetime: 14.728\n",
      "-------------------------------\n",
      "frame count: 28667\n",
      "average reward: -0.742\n",
      "epsilon: 0.716\n",
      "average lifetime: 20.548\n",
      "-------------------------------\n",
      "frame count: 45422\n",
      "average reward: -0.544\n",
      "epsilon: 0.55\n",
      "average lifetime: 33.51\n",
      "-------------------------------\n",
      "frame count: 89276\n",
      "average reward: 0.47\n",
      "epsilon: 0.116\n",
      "average lifetime: 87.708\n",
      "-------------------------------\n",
      "frame count: 142898\n",
      "average reward: 5.296\n",
      "epsilon: 0.01\n",
      "average lifetime: 107.244\n",
      "-------------------------------\n",
      "frame count: 202625\n",
      "average reward: 10.258\n",
      "epsilon: 0.01\n",
      "average lifetime: 119.454\n",
      "-------------------------------\n",
      "frame count: 283109\n",
      "average reward: 14.366\n",
      "epsilon: 0.01\n",
      "average lifetime: 160.968\n",
      "-------------------------------\n",
      "frame count: 368618\n",
      "average reward: 16.582\n",
      "epsilon: 0.01\n",
      "average lifetime: 171.018\n",
      "-------------------------------\n",
      "frame count: 457901\n",
      "average reward: 17.646\n",
      "epsilon: 0.01\n",
      "average lifetime: 178.566\n",
      "-------------------------------\n",
      "frame count: 566599\n",
      "average reward: 20.088\n",
      "epsilon: 0.01\n",
      "average lifetime: 217.396\n",
      "-------------------------------\n"
     ]
    }
   ],
   "source": [
    "aa.train(gpu_id=5, exploration=\"boltzmann\", save_freq=2000000, max_num_epochs=1000, tau=1e-3, batch_size=32)"
   ]
  },
  {
   "cell_type": "code",
   "execution_count": null,
   "metadata": {
    "collapsed": true
   },
   "outputs": [],
   "source": []
  }
 ],
 "metadata": {
  "kernelspec": {
   "display_name": "Python [conda env:tf]",
   "language": "python",
   "name": "conda-env-tf-py"
  },
  "language_info": {
   "codemirror_mode": {
    "name": "ipython",
    "version": 3
   },
   "file_extension": ".py",
   "mimetype": "text/x-python",
   "name": "python",
   "nbconvert_exporter": "python",
   "pygments_lexer": "ipython3",
   "version": "3.5.4"
  }
 },
 "nbformat": 4,
 "nbformat_minor": 2
}
