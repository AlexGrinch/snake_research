{
 "cells": [
  {
   "cell_type": "markdown",
   "metadata": {},
   "source": [
    "# Imports"
   ]
  },
  {
   "cell_type": "code",
   "execution_count": 1,
   "metadata": {
    "collapsed": true
   },
   "outputs": [],
   "source": [
    "import os\n",
    "import time\n",
    "import random\n",
    "import numpy as np\n",
    "\n",
    "import tensorflow as tf\n",
    "import tensorflow.contrib.layers as layers\n",
    "\n",
    "import gym\n",
    "from gym import spaces\n",
    "from PIL import Image\n",
    "from collections import deque, namedtuple\n",
    "\n",
    "from IPython import display\n",
    "import matplotlib.pyplot as plt\n",
    "%matplotlib inline"
   ]
  },
  {
   "cell_type": "code",
   "execution_count": 2,
   "metadata": {
    "collapsed": true
   },
   "outputs": [],
   "source": [
    "from environments import Snake\n",
    "from methods import ActorCriticNetwork, ReplayMemory"
   ]
  },
  {
   "cell_type": "code",
   "execution_count": 13,
   "metadata": {
    "collapsed": true
   },
   "outputs": [],
   "source": [
    "R = np.array([4, 1, 6, 7, 9], dtype=np.float32)\n",
    "V = np.array([-1, -2, 1, 4, -5], dtype=np.float32)"
   ]
  },
  {
   "cell_type": "code",
   "execution_count": 3,
   "metadata": {
    "collapsed": true
   },
   "outputs": [],
   "source": [
    "def shift_vector(vec, pos=1):\n",
    "    vec_ = np.concatenate((vec, np.zeros(pos)))\n",
    "    return vec_[pos:]\n",
    "\n",
    "def calc_targets(rewards, values, depth, gamma):\n",
    "    r = np.array(rewards, dtype=np.float32).ravel()\n",
    "    v = np.array(values, dtype=np.float32).ravel()\n",
    "    targets = np.zeros_like(r)\n",
    "    for i in range(depth):\n",
    "        targets += (gamma ** i) * shift_vector(r, i)\n",
    "    targets += (gamma ** depth) * shift_vector(v, depth)\n",
    "    return targets.reshape(-1, 1)"
   ]
  },
  {
   "cell_type": "markdown",
   "metadata": {},
   "source": [
    "# Snake class"
   ]
  },
  {
   "cell_type": "code",
   "execution_count": 3,
   "metadata": {},
   "outputs": [
    {
     "data": {
      "image/png": "[encoded data removed]",
      "text/plain": [
       "<matplotlib.figure.Figure at 0x11ea856d8>"
      ]
     },
     "metadata": {},
     "output_type": "display_data"
    }
   ],
   "source": [
    "s = Snake()\n",
    "img = s.reset()\n",
    "s.plot_state()"
   ]
  },
  {
   "cell_type": "code",
   "execution_count": 4,
   "metadata": {},
   "outputs": [
    {
     "data": {
      "image/png": "[encoded data removed]",
      "text/plain": [
       "<matplotlib.figure.Figure at 0x11eb59320>"
      ]
     },
     "metadata": {},
     "output_type": "display_data"
    }
   ],
   "source": [
    "img, r, done = s.step(2)\n",
    "s.plot_state()"
   ]
  },
  {
   "cell_type": "markdown",
   "metadata": {},
   "source": [
    "# NN training"
   ]
  },
  {
   "cell_type": "code",
   "execution_count": 8,
   "metadata": {
    "collapsed": true
   },
   "outputs": [],
   "source": [
    "class SnakeAgent:\n",
    "    \n",
    "    def __init__(self, model_name=\"baseline_agent\"):\n",
    "        \n",
    "        \"\"\"Class for training and evaluating DQN agent on Atari games\n",
    "        \n",
    "        Parameters\n",
    "        ----------\n",
    "        game_id: str\n",
    "            game identifier in gym environment, e.g. \"Pong\"\n",
    "        num_actions: int\n",
    "            number of actions the agent can take\n",
    "        model_name: str\n",
    "            name of the model\n",
    "        \"\"\"\n",
    "        \n",
    "        ############################ Game environment ############################\n",
    "        \n",
    "        self.train_env = Snake()\n",
    "        self.num_actions = 4\n",
    "            \n",
    "        self.path = \"snake_models\" + \"/\" + model_name\n",
    "        if not os.path.exists(self.path):\n",
    "            os.makedirs(self.path)\n",
    "        \n",
    "        ############################# Agent & Target #############################\n",
    "        \n",
    "        tf.reset_default_graph()\n",
    "        self.agent_net = ActorCriticNetwork(self.num_actions, scope=\"agent\")\n",
    "        self.target_net = ActorCriticNetwork(self.num_actions, scope=\"target\")\n",
    "        \n",
    "        self.init = tf.global_variables_initializer()\n",
    "        self.saver = tf.train.Saver()\n",
    "        \n",
    "        all_vars = tf.trainable_variables()\n",
    "        num_vars = len(all_vars) // 2\n",
    "        self.agent_vars = all_vars[:num_vars]\n",
    "        self.target_vars = all_vars[num_vars:]\n",
    "        \n",
    "    def set_parameters(self, \n",
    "                       replay_memory_size=50000,\n",
    "                       replay_start_size=10000,\n",
    "                       init_eps=1,\n",
    "                       final_eps=0.1,\n",
    "                       annealing_steps=100000,\n",
    "                       discount_factor=0.99,\n",
    "                       n_step=3,\n",
    "                       max_episode_length=2000):\n",
    "        \n",
    "        # create experience replay and fill it with random policy samples\n",
    "        self.rep_buffer = ReplayMemory(replay_memory_size)\n",
    "        frame_count = 0\n",
    "        while (frame_count < replay_start_size):\n",
    "            s = self.train_env.reset()\n",
    "            for time_step in range(max_episode_length):\n",
    "                a = np.random.randint(self.num_actions)\n",
    "                s_, r, end = self.train_env.step(a)\n",
    "                self.rep_buffer.push(s, a, np.sign(r), s_, end)\n",
    "                s = s_\n",
    "                frame_count += 1\n",
    "                if end:\n",
    "                    break\n",
    "                        \n",
    "        self.eps = init_eps\n",
    "        self.final_eps = final_eps\n",
    "        self.eps_drop = (init_eps - final_eps) / annealing_steps\n",
    "        self.gamma = discount_factor\n",
    "        self.max_ep_length = max_episode_length\n",
    "        self.n_step = n_step\n",
    "        \n",
    "    def train(self,\n",
    "              gpu_id=0,\n",
    "              batch_size=32,\n",
    "              agent_update_freq=4,\n",
    "              target_update_freq=5000,\n",
    "              tau=1,\n",
    "              max_num_episodes=100000,\n",
    "              max_num_epochs=50000,\n",
    "              performance_print_freq=100,\n",
    "              save_freq=10000):\n",
    "        \n",
    "        target_ops = self.update_target_graph(tau)\n",
    "        \n",
    "        with tf.Session() as sess:\n",
    "            sess.run(self.init)\n",
    "            \n",
    "            train_rewards = []\n",
    "            PG_loss, VAL_loss = [], []\n",
    "            frame_count = 0\n",
    "            episode_count = 0\n",
    "            num_epochs = 0\n",
    "            \n",
    "            while num_epochs < max_num_epochs:\n",
    "                \n",
    "                train_ep_reward = 0\n",
    "                \n",
    "                # reset the environment / start new game\n",
    "                s = self.train_env.reset()\n",
    "                \n",
    "                states = []\n",
    "                actions = []\n",
    "                rewards = []\n",
    "                \n",
    "                for time_step in range(self.max_ep_length):\n",
    "                    \n",
    "                    act_probs = self.agent_net.get_probs(sess, [s])\n",
    "                    a = np.random.choice(self.num_actions, p=act_probs.ravel())\n",
    "                    states.append(s)\n",
    "                    actions.append(a)\n",
    "                    # make step in the environment\n",
    "                    s, r, end = self.train_env.step(a)\n",
    "                    rewards.append(r)\n",
    "\n",
    "                    # update current state and statistics\n",
    "                    frame_count += 1\n",
    "                    train_ep_reward += r\n",
    "                    \n",
    "                    # make checkpoints of network weights and save learning curve\n",
    "                    if frame_count % save_freq == 1:\n",
    "                        num_epochs += 1\n",
    "                        try:\n",
    "                            self.saver.save(sess, self.path+\"/model\", global_step=num_epochs)\n",
    "                            np.savez(self.path+\"/learning_curve.npz\", r=train_rewards)\n",
    "                        except:\n",
    "                            pass\n",
    "                        \n",
    "                    if end: break\n",
    "                \n",
    "                values = self.agent_net.get_values(sess, states)\n",
    "                targets = calc_targets(rewards, values, self.n_step, self.gamma)\n",
    "                pg_targets = targets - values\n",
    "                  \n",
    "                # update network weights\n",
    "                \n",
    "                pg_loss, val_loss = self.agent_net.update(sess, states, actions, pg_targets, targets)\n",
    "                PG_loss.append(pg_loss)\n",
    "                VAL_loss.append(val_loss)\n",
    "                         \n",
    "                episode_count += 1\n",
    "                train_rewards.append(train_ep_reward)\n",
    "                \n",
    "                # print performance once in a while\n",
    "                if episode_count % performance_print_freq == 0:\n",
    "                    avg_reward = np.mean(train_rewards[-performance_print_freq:])\n",
    "                    avg_pg_loss = np.mean(PG_loss[-performance_print_freq:])\n",
    "                    avg_val_loss = np.mean(VAL_loss[-performance_print_freq:])\n",
    "                    print(\"Train info:\", frame_count, avg_reward, avg_pg_loss, avg_val_loss)  \n",
    "\n",
    "    def update_target_graph(self, tau):\n",
    "        op_holder = []\n",
    "        for agnt, trgt in zip(self.agent_vars, self.target_vars):\n",
    "            op = trgt.assign(agnt.value()*tau + (1 - tau)*trgt.value())\n",
    "            op_holder.append(op)\n",
    "        return op_holder\n",
    "\n",
    "    def update_target_weights(self, sess, op_holder):\n",
    "        for op in op_holder:\n",
    "            sess.run(op)"
   ]
  },
  {
   "cell_type": "code",
   "execution_count": 9,
   "metadata": {},
   "outputs": [],
   "source": [
    "aa = SnakeAgent(model_name=\"test2\")"
   ]
  },
  {
   "cell_type": "code",
   "execution_count": 10,
   "metadata": {
    "collapsed": true
   },
   "outputs": [],
   "source": [
    "aa.set_parameters(max_episode_length=1000, replay_memory_size=50000, replay_start_size=10000)"
   ]
  },
  {
   "cell_type": "code",
   "execution_count": null,
   "metadata": {
    "scrolled": true
   },
   "outputs": [
    {
     "name": "stdout",
     "output_type": "stream",
     "text": [
      "Train info: 777 -0.87 -21.4547 0.240491\n",
      "Train info: 1543 -0.92 -16.298 0.153546\n",
      "Train info: 2459 -0.87 -4.83338 0.0798858\n",
      "Train info: 3274 -0.92 -0.0808705 0.0443214\n",
      "Train info: 4101 -0.86 7.83107 0.0390468\n",
      "Train info: 4857 -0.9 4.32984 0.0273029\n",
      "Train info: 5626 -0.89 7.51827 0.028144\n",
      "Train info: 6425 -0.9 6.78224 0.0240741\n",
      "Train info: 7243 -0.88 5.03037 0.0277286\n",
      "Train info: 8133 -0.89 5.31946 0.0325434\n",
      "Train info: 8920 -0.94 0.517994 0.0202131\n",
      "Train info: 9782 -0.92 5.53896 0.0201518\n",
      "Train info: 10650 -0.82 7.96302 0.0324679\n",
      "Train info: 11531 -0.86 5.49608 0.0273787\n",
      "Train info: 12313 -0.92 4.79561 0.0148475\n",
      "Train info: 13117 -0.93 4.66935 0.0132647\n",
      "Train info: 13909 -0.91 9.58051 0.0154501\n",
      "Train info: 14734 -0.87 6.26124 0.0224615\n",
      "Train info: 15574 -0.9 4.14778 0.0195258\n",
      "Train info: 16438 -0.92 3.73967 0.0165844\n",
      "Train info: 17283 -0.89 4.78244 0.0182421\n",
      "Train info: 18106 -0.84 6.12342 0.0308484\n",
      "Train info: 18925 -0.84 6.74261 0.0261258\n",
      "Train info: 19724 -0.9 5.0197 0.0214938\n",
      "Train info: 20619 -0.92 4.01215 0.0162865\n",
      "Train info: 21377 -0.91 3.68848 0.0177206\n",
      "Train info: 22261 -0.83 7.74222 0.0269978\n",
      "Train info: 23075 -0.88 2.61304 0.0188717\n",
      "Train info: 23851 -0.88 4.09934 0.0203936\n",
      "Train info: 24714 -0.84 5.97729 0.0274202\n",
      "Train info: 25611 -0.93 3.01489 0.013868\n",
      "Train info: 26414 -0.86 5.84611 0.0234286\n",
      "Train info: 27194 -0.93 2.62259 0.0169402\n",
      "Train info: 27914 -0.9 4.61494 0.0183613\n",
      "Train info: 28733 -0.89 3.32735 0.0223697\n",
      "Train info: 29667 -0.91 3.62483 0.016219\n",
      "Train info: 30478 -0.86 4.65362 0.0285459\n",
      "Train info: 31313 -0.95 1.99205 0.0119261\n",
      "Train info: 32174 -0.81 11.5237 0.0258596\n",
      "Train info: 33025 -0.9 5.45941 0.0148073\n",
      "Train info: 33750 -0.87 2.51779 0.0241846\n",
      "Train info: 34609 -0.9 3.43003 0.0180851\n",
      "Train info: 35403 -0.92 3.58941 0.0144103\n",
      "Train info: 36317 -0.93 4.84328 0.0145991\n",
      "Train info: 37091 -0.86 5.01448 0.0257346\n",
      "Train info: 37815 -0.9 3.34497 0.0248818\n",
      "Train info: 38635 -0.86 10.9956 0.0170676\n",
      "Train info: 39418 -0.87 6.32561 0.0221187\n"
     ]
    }
   ],
   "source": [
    "aa.train(gpu_id=0)"
   ]
  },
  {
   "cell_type": "markdown",
   "metadata": {},
   "source": [
    "# Visualization"
   ]
  },
  {
   "cell_type": "code",
   "execution_count": 20,
   "metadata": {
    "collapsed": true
   },
   "outputs": [],
   "source": [
    "tf.reset_default_graph()\n",
    "agent_net = PGNetwork(4, scope=\"agent\")\n",
    "saver = tf.train.Saver()\n",
    "env = Snake()"
   ]
  },
  {
   "cell_type": "code",
   "execution_count": 25,
   "metadata": {},
   "outputs": [
    {
     "data": {
      "image/png": "[encoded data removed]",
      "text/plain": [
       "<matplotlib.figure.Figure at 0x121fd8ef0>"
      ]
     },
     "metadata": {},
     "output_type": "display_data"
    },
    {
     "data": {
      "image/png": "[encoded data removed]",
      "text/plain": [
       "<matplotlib.figure.Figure at 0x121fd8ef0>"
      ]
     },
     "metadata": {},
     "output_type": "display_data"
    }
   ],
   "source": [
    "with tf.Session() as sess:\n",
    "    saver.restore(sess, \"snake_models/test/model-55\")\n",
    "    s = env.reset()\n",
    "    for i in range(20):\n",
    "        probs = agent_net.get_probs(sess, [s])\n",
    "        a = agent_net.get_p_argmax(sess, [s])[0]\n",
    "        s, r, done = env.step(a)\n",
    "        \n",
    "        \n",
    "        env.plot_state()\n",
    "        display.clear_output(wait=True)\n",
    "        display.display(plt.gcf())\n",
    "        time.sleep(0.01)\n",
    "        \n",
    "        if done: break"
   ]
  },
  {
   "cell_type": "code",
   "execution_count": 26,
   "metadata": {},
   "outputs": [
    {
     "data": {
      "text/plain": [
       "array([[ 0.06805254,  0.69527936,  0.05574758,  0.18092045]], dtype=float32)"
      ]
     },
     "execution_count": 26,
     "metadata": {},
     "output_type": "execute_result"
    }
   ],
   "source": [
    "probs"
   ]
  },
  {
   "cell_type": "code",
   "execution_count": null,
   "metadata": {
    "collapsed": true
   },
   "outputs": [],
   "source": []
  }
 ],
 "metadata": {
  "kernelspec": {
   "display_name": "Python 3",
   "language": "python",
   "name": "python3"
  },
  "language_info": {
   "codemirror_mode": {
    "name": "ipython",
    "version": 3
   },
   "file_extension": ".py",
   "mimetype": "text/x-python",
   "name": "python",
   "nbconvert_exporter": "python",
   "pygments_lexer": "ipython3",
   "version": "3.6.1"
  }
 },
 "nbformat": 4,
 "nbformat_minor": 2
}
