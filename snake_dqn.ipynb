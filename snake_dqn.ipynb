{
 "cells": [
  {
   "cell_type": "markdown",
   "metadata": {
    "nbpresent": {
     "id": "597d6989-74e7-4ec7-8903-9aea215cbb49"
    }
   },
   "source": [
    "# Imports"
   ]
  },
  {
   "cell_type": "code",
   "execution_count": 1,
   "metadata": {
    "nbpresent": {
     "id": "21a06ab6-fd5a-4c39-b641-680a372defe6"
    }
   },
   "outputs": [],
   "source": [
    "import os\n",
    "import time\n",
    "import random\n",
    "import numpy as np\n",
    "\n",
    "import tensorflow as tf\n",
    "import tensorflow.contrib.layers as layers\n",
    "\n",
    "import gym\n",
    "from gym import spaces\n",
    "from PIL import Image\n",
    "from collections import deque, namedtuple\n",
    "\n",
    "from IPython import display\n",
    "import matplotlib.pyplot as plt\n",
    "%matplotlib inline"
   ]
  },
  {
   "cell_type": "code",
   "execution_count": 2,
   "metadata": {
    "nbpresent": {
     "id": "37e925e6-6039-4e40-93da-e956e072b26c"
    }
   },
   "outputs": [],
   "source": [
    "from environments import Snake\n",
    "from methods import QNetwork, ReplayMemory\n",
    "from agents import SnakeDQNAgent"
   ]
  },
  {
   "cell_type": "markdown",
   "metadata": {
    "nbpresent": {
     "id": "d8b5cee0-93e4-44e5-b48c-3e9d072b7326"
    }
   },
   "source": [
    "# NN training"
   ]
  },
  {
   "cell_type": "code",
   "execution_count": 3,
   "metadata": {
    "nbpresent": {
     "id": "feaa050e-c990-4d84-94b7-fe0961f7d5ee"
    }
   },
   "outputs": [],
   "source": [
    "aa = SnakeDQNAgent(model_name=\"test\", state_shape=[8, 8, 3])"
   ]
  },
  {
   "cell_type": "code",
   "execution_count": 4,
   "metadata": {
    "nbpresent": {
     "id": "b97770f2-5d19-48ca-86ca-7339a66481eb"
    }
   },
   "outputs": [],
   "source": [
    "aa.set_parameters(max_episode_length=2000, replay_memory_size=100000, replay_start_size=10000,\n",
    "                  discount_factor=1, final_eps=0.01, annealing_steps=500000)"
   ]
  },
  {
   "cell_type": "code",
   "execution_count": null,
   "metadata": {
    "nbpresent": {
     "id": "09a28cf1-440e-4ea4-b0ea-36c4e4536795"
    },
    "scrolled": true
   },
   "outputs": [
    {
     "name": "stdout",
     "output_type": "stream",
     "text": [
      "frame count: 5067\n",
      "average reward: -0.854\n",
      "epsilon: 0.99\n",
      "average lifetime: 10.134\n",
      "-------------------------------\n",
      "frame count: 12224\n",
      "average reward: -0.826\n",
      "epsilon: 0.976\n",
      "average lifetime: 14.314\n",
      "-------------------------------\n",
      "frame count: 20100\n",
      "average reward: -0.796\n",
      "epsilon: 0.96\n",
      "average lifetime: 15.752\n",
      "-------------------------------\n",
      "frame count: 28308\n",
      "average reward: -0.786\n",
      "epsilon: 0.944\n",
      "average lifetime: 16.416\n",
      "-------------------------------\n",
      "frame count: 37995\n",
      "average reward: -0.738\n",
      "epsilon: 0.925\n",
      "average lifetime: 19.374\n",
      "-------------------------------\n",
      "frame count: 47480\n",
      "average reward: -0.732\n",
      "epsilon: 0.906\n",
      "average lifetime: 18.97\n",
      "-------------------------------\n",
      "frame count: 57813\n",
      "average reward: -0.734\n",
      "epsilon: 0.886\n",
      "average lifetime: 20.666\n",
      "-------------------------------\n",
      "frame count: 68659\n",
      "average reward: -0.678\n",
      "epsilon: 0.864\n",
      "average lifetime: 21.692\n",
      "-------------------------------\n",
      "frame count: 79905\n",
      "average reward: -0.668\n",
      "epsilon: 0.842\n",
      "average lifetime: 22.492\n",
      "-------------------------------\n",
      "frame count: 91967\n",
      "average reward: -0.548\n",
      "epsilon: 0.818\n",
      "average lifetime: 24.124\n",
      "-------------------------------\n",
      "frame count: 106022\n",
      "average reward: -0.426\n",
      "epsilon: 0.79\n",
      "average lifetime: 28.11\n",
      "-------------------------------\n",
      "frame count: 121570\n",
      "average reward: -0.3\n",
      "epsilon: 0.759\n",
      "average lifetime: 31.096\n",
      "-------------------------------\n",
      "frame count: 141221\n",
      "average reward: -0.062\n",
      "epsilon: 0.72\n",
      "average lifetime: 39.302\n",
      "-------------------------------\n",
      "frame count: 164791\n",
      "average reward: 0.314\n",
      "epsilon: 0.674\n",
      "average lifetime: 47.14\n",
      "-------------------------------\n",
      "frame count: 193191\n",
      "average reward: 0.66\n",
      "epsilon: 0.617\n",
      "average lifetime: 56.8\n",
      "-------------------------------\n",
      "frame count: 229164\n",
      "average reward: 1.01\n",
      "epsilon: 0.546\n",
      "average lifetime: 71.946\n",
      "-------------------------------\n",
      "frame count: 269730\n",
      "average reward: 1.502\n",
      "epsilon: 0.466\n",
      "average lifetime: 81.132\n",
      "-------------------------------\n",
      "frame count: 320155\n",
      "average reward: 2.374\n",
      "epsilon: 0.366\n",
      "average lifetime: 100.85\n",
      "-------------------------------\n",
      "frame count: 380818\n",
      "average reward: 3.468\n",
      "epsilon: 0.246\n",
      "average lifetime: 121.326\n",
      "-------------------------------\n",
      "frame count: 462177\n",
      "average reward: 6.892\n",
      "epsilon: 0.085\n",
      "average lifetime: 162.718\n",
      "-------------------------------\n",
      "frame count: 576373\n",
      "average reward: 12.832\n",
      "epsilon: 0.01\n",
      "average lifetime: 228.392\n",
      "-------------------------------\n",
      "frame count: 700338\n",
      "average reward: 16.394\n",
      "epsilon: 0.01\n",
      "average lifetime: 247.93\n",
      "-------------------------------\n",
      "frame count: 882012\n",
      "average reward: 22.458\n",
      "epsilon: 0.01\n",
      "average lifetime: 363.348\n",
      "-------------------------------\n",
      "frame count: 1087574\n",
      "average reward: 27.384\n",
      "epsilon: 0.01\n",
      "average lifetime: 411.124\n",
      "-------------------------------\n",
      "frame count: 1337637\n",
      "average reward: 32.466\n",
      "epsilon: 0.01\n",
      "average lifetime: 500.126\n",
      "-------------------------------\n",
      "frame count: 1589346\n",
      "average reward: 33.506\n",
      "epsilon: 0.01\n",
      "average lifetime: 503.418\n",
      "-------------------------------\n",
      "frame count: 1863685\n",
      "average reward: 37.234\n",
      "epsilon: 0.01\n",
      "average lifetime: 548.678\n",
      "-------------------------------\n",
      "frame count: 2119445\n",
      "average reward: 39.186\n",
      "epsilon: 0.01\n",
      "average lifetime: 511.52\n",
      "-------------------------------\n",
      "frame count: 2364436\n",
      "average reward: 38.882\n",
      "epsilon: 0.01\n",
      "average lifetime: 489.982\n",
      "-------------------------------\n",
      "frame count: 2628095\n",
      "average reward: 40.726\n",
      "epsilon: 0.01\n",
      "average lifetime: 527.318\n",
      "-------------------------------\n",
      "frame count: 2915326\n",
      "average reward: 42.878\n",
      "epsilon: 0.01\n",
      "average lifetime: 574.462\n",
      "-------------------------------\n",
      "frame count: 3205494\n",
      "average reward: 42.736\n",
      "epsilon: 0.01\n",
      "average lifetime: 580.336\n",
      "-------------------------------\n"
     ]
    }
   ],
   "source": [
    "aa.train(gpu_id=2, batch_size=32, from_epoch=0, exploration=\"boltzmann\")"
   ]
  },
  {
   "cell_type": "markdown",
   "metadata": {
    "nbpresent": {
     "id": "ef0de02b-c5a1-4823-9880-bff23962246e"
    }
   },
   "source": [
    "# Visualization"
   ]
  },
  {
   "cell_type": "code",
   "execution_count": 6,
   "metadata": {},
   "outputs": [
    {
     "data": {
      "image/png": "[encoded data removed]",
      "text/plain": [
       "<matplotlib.figure.Figure at 0x7fe419c81518>"
      ]
     },
     "metadata": {},
     "output_type": "display_data"
    },
    {
     "data": {
      "text/plain": [
       "13"
      ]
     },
     "execution_count": 6,
     "metadata": {},
     "output_type": "execute_result"
    },
    {
     "data": {
      "image/png": "[encoded data removed]",
      "text/plain": [
       "<matplotlib.figure.Figure at 0x7fe419c81518>"
      ]
     },
     "metadata": {},
     "output_type": "display_data"
    }
   ],
   "source": [
    "aa.play(gpu_id=2, max_episode_length=100, from_epoch=234)"
   ]
  },
  {
   "cell_type": "code",
   "execution_count": null,
   "metadata": {},
   "outputs": [],
   "source": []
  }
 ],
 "metadata": {
  "kernelspec": {
   "display_name": "Python 3",
   "language": "python",
   "name": "python3"
  },
  "language_info": {
   "codemirror_mode": {
    "name": "ipython",
    "version": 3
   },
   "file_extension": ".py",
   "mimetype": "text/x-python",
   "name": "python",
   "nbconvert_exporter": "python",
   "pygments_lexer": "ipython3",
   "version": "3.5.2"
  }
 },
 "nbformat": 4,
 "nbformat_minor": 2
}
