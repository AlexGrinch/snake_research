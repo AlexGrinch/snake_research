{
 "cells": [
  {
   "cell_type": "markdown",
   "metadata": {
    "nbpresent": {
     "id": "597d6989-74e7-4ec7-8903-9aea215cbb49"
    }
   },
   "source": [
    "# Imports"
   ]
  },
  {
   "cell_type": "code",
   "execution_count": 1,
   "metadata": {
    "nbpresent": {
     "id": "21a06ab6-fd5a-4c39-b641-680a372defe6"
    }
   },
   "outputs": [],
   "source": [
    "import os\n",
    "import time\n",
    "import random\n",
    "import numpy as np\n",
    "\n",
    "import tensorflow as tf\n",
    "import tensorflow.contrib.layers as layers\n",
    "\n",
    "import gym\n",
    "from gym import spaces\n",
    "from PIL import Image\n",
    "from collections import deque, namedtuple\n",
    "\n",
    "from IPython import display\n",
    "import matplotlib.pyplot as plt\n",
    "%matplotlib inline"
   ]
  },
  {
   "cell_type": "code",
   "execution_count": 2,
   "metadata": {
    "nbpresent": {
     "id": "37e925e6-6039-4e40-93da-e956e072b26c"
    }
   },
   "outputs": [],
   "source": [
    "from environments import Snake\n",
    "from methods import QNetwork, ReplayMemory\n",
    "from agents import SnakeDQNAgent"
   ]
  },
  {
   "cell_type": "markdown",
   "metadata": {
    "nbpresent": {
     "id": "d8b5cee0-93e4-44e5-b48c-3e9d072b7326"
    }
   },
   "source": [
    "# NN training"
   ]
  },
  {
   "cell_type": "code",
   "execution_count": 4,
   "metadata": {
    "nbpresent": {
     "id": "feaa050e-c990-4d84-94b7-fe0961f7d5ee"
    }
   },
   "outputs": [],
   "source": [
    "aa = SnakeDQNAgent(grid_size=[8, 8], model_name=\"grid8x8\")"
   ]
  },
  {
   "cell_type": "code",
   "execution_count": 5,
   "metadata": {
    "nbpresent": {
     "id": "b97770f2-5d19-48ca-86ca-7339a66481eb"
    }
   },
   "outputs": [],
   "source": [
    "aa.set_parameters(max_episode_length=1000, replay_memory_size=50000, replay_start_size=10000,\n",
    "                  discount_factor=1, final_eps=0.01, annealing_steps=500000)"
   ]
  },
  {
   "cell_type": "code",
   "execution_count": null,
   "metadata": {
    "nbpresent": {
     "id": "09a28cf1-440e-4ea4-b0ea-36c4e4536795"
    },
    "scrolled": true
   },
   "outputs": [
    {
     "name": "stdout",
     "output_type": "stream",
     "text": [
      "Train info: 4419 -0.9 0.99125038000019\n",
      "Train info: 9044 -0.888 0.9820928800003887\n",
      "Train info: 13507 -0.88 0.9732561400005806\n",
      "Train info: 18225 -0.864 0.9639145000007834\n",
      "Train info: 22671 -0.864 0.9551114200009745\n",
      "Train info: 27218 -0.888 0.9461083600011699\n",
      "Train info: 31876 -0.878 0.9368855200013702\n",
      "Train info: 36714 -0.882 0.9273062800015781\n",
      "Train info: 41263 -0.872 0.9182992600017736\n",
      "Train info: 45978 -0.884 0.9089635600019763\n",
      "Train info: 50295 -0.888 0.9004159000021619\n",
      "Train info: 54948 -0.886 0.8912029600023619\n",
      "Train info: 59596 -0.872 0.8819999200025617\n",
      "Train info: 64179 -0.874 0.8729255800027587\n",
      "Train info: 69202 -0.88 0.8629800400029746\n",
      "Train info: 74264 -0.842 0.8529572800031922\n",
      "Train info: 78789 -0.896 0.8439977800033867\n",
      "Train info: 83612 -0.868 0.834448240003594\n",
      "Train info: 88519 -0.858 0.8247323800038049\n",
      "Train info: 93264 -0.87 0.8153372800040088\n",
      "Train info: 98388 -0.84 0.8051917600042291\n",
      "Train info: 103445 -0.838 0.7951789000044465\n",
      "Train info: 108940 -0.878 0.7842988000046827\n",
      "Train info: 114532 -0.814 0.773226640004923\n",
      "Train info: 120526 -0.854 0.7613585200051807\n",
      "Train info: 126294 -0.834 0.7499378800054286\n",
      "Train info: 131803 -0.866 0.7390300600056654\n",
      "Train info: 138005 -0.842 0.726750100005932\n",
      "Train info: 144486 -0.826 0.7139177200062106\n",
      "Train info: 151465 -0.836 0.7000993000065105\n",
      "Train info: 158918 -0.8 0.6853423600068309\n",
      "Train info: 166606 -0.796 0.6701201200071614\n",
      "Train info: 175612 -0.822 0.6522882400075485\n",
      "Train info: 184565 -0.794 0.6345613000079333\n",
      "Train info: 194668 -0.768 0.6145573600083676\n",
      "Train info: 204282 -0.758 0.5955216400087808\n",
      "Train info: 215200 -0.732 0.5739040000092501\n",
      "Train info: 226706 -0.734 0.5511221200097447\n",
      "Train info: 238529 -0.698 0.5277125800102529\n",
      "Train info: 249889 -0.73 0.5052197800107412\n",
      "Train info: 263111 -0.676 0.4790402200107219\n",
      "Train info: 276420 -0.712 0.45268840001055516\n",
      "Train info: 290963 -0.632 0.423893260010373\n",
      "Train info: 304203 -0.622 0.3976780600102071\n",
      "Train info: 322224 -0.622 0.36199648000998136\n",
      "Train info: 340849 -0.59 0.32511898000974804\n",
      "Train info: 361359 -0.52 0.2845091800094911\n",
      "Train info: 387358 -0.438 0.2330311600091654\n",
      "Train info: 422293 -0.38 0.16385986000872776\n",
      "Train info: 495259 -0.204 0.01938718000855394\n",
      "Train info: 648582 -0.142 0.009998020008555413\n",
      "Train info: 811089 -0.252 0.009998020008555413\n",
      "Train info: 961363 -0.306 0.009998020008555413\n",
      "Train info: 1119025 -0.334 0.009998020008555413\n"
     ]
    }
   ],
   "source": [
    "aa.train(gpu_id=0, batch_size=32, from_epoch=0)"
   ]
  },
  {
   "cell_type": "markdown",
   "metadata": {
    "nbpresent": {
     "id": "ef0de02b-c5a1-4823-9880-bff23962246e"
    }
   },
   "source": [
    "# Visualization"
   ]
  },
  {
   "cell_type": "code",
   "execution_count": 6,
   "metadata": {},
   "outputs": [
    {
     "data": {
      "image/png": "[encoded data removed]",
      "text/plain": [
       "<matplotlib.figure.Figure at 0x7fe419c81518>"
      ]
     },
     "metadata": {},
     "output_type": "display_data"
    },
    {
     "data": {
      "text/plain": [
       "13"
      ]
     },
     "execution_count": 6,
     "metadata": {},
     "output_type": "execute_result"
    },
    {
     "data": {
      "image/png": "[encoded data removed]",
      "text/plain": [
       "<matplotlib.figure.Figure at 0x7fe419c81518>"
      ]
     },
     "metadata": {},
     "output_type": "display_data"
    }
   ],
   "source": [
    "aa.play(gpu_id=2, max_episode_length=100, from_epoch=234)"
   ]
  },
  {
   "cell_type": "code",
   "execution_count": null,
   "metadata": {},
   "outputs": [],
   "source": []
  }
 ],
 "metadata": {
  "kernelspec": {
   "display_name": "Python 3",
   "language": "python",
   "name": "python3"
  },
  "language_info": {
   "codemirror_mode": {
    "name": "ipython",
    "version": 3
   },
   "file_extension": ".py",
   "mimetype": "text/x-python",
   "name": "python",
   "nbconvert_exporter": "python",
   "pygments_lexer": "ipython3",
   "version": "3.5.2"
  }
 },
 "nbformat": 4,
 "nbformat_minor": 2
}
