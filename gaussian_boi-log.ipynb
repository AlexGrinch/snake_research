{
 "cells": [
  {
   "cell_type": "code",
   "execution_count": 1,
   "metadata": {},
   "outputs": [
    {
     "name": "stderr",
     "output_type": "stream",
     "text": [
      "/root/miniconda3/envs/tf/lib/python3.5/site-packages/h5py/__init__.py:36: FutureWarning: Conversion of the second argument of issubdtype from `float` to `np.floating` is deprecated. In future, it will be treated as `np.float64 == np.dtype(float).type`.\n",
      "  from ._conv import register_converters as _register_converters\n"
     ]
    }
   ],
   "source": [
    "import os\n",
    "import time\n",
    "import random\n",
    "import numpy as np\n",
    "\n",
    "import tensorflow as tf\n",
    "import tensorflow.contrib.layers as layers\n",
    "\n",
    "import gym\n",
    "from gym import spaces\n",
    "from PIL import Image\n",
    "from collections import deque, namedtuple\n",
    "\n",
    "from IPython import display\n",
    "import matplotlib.pyplot as plt\n",
    "%matplotlib inline"
   ]
  },
  {
   "cell_type": "code",
   "execution_count": 2,
   "metadata": {},
   "outputs": [],
   "source": [
    "from environments import Snake\n",
    "from new_agents import *"
   ]
  },
  {
   "cell_type": "code",
   "execution_count": 3,
   "metadata": {},
   "outputs": [],
   "source": [
    "env = Snake((8, 8))\n",
    "#aa = DuelDQNAgent(env=env, num_actions=3, state_shape=[8, 8, 5], \n",
    "#              save_path=\"snake_models\", model_name=\"test\")\n",
    "#aa = CatDQNAgent(env=env, num_actions=3, state_shape=[8, 8, 5], num_atoms=51,\n",
    "#                 save_path=\"snake_models\", model_name=\"test\")\n",
    "#aa = SACAgent(env=env, num_actions=3, temperature=0.05,\n",
    "#              save_path=\"snake_models\", model_name=\"test\")\n",
    "aa = GaussLogDQNAgent(env=env, num_actions=3, state_shape=[8, 8, 5],\n",
    "                      save_path=\"snake_models\", loss='kl', model_name=\"test-gauss-log-boi-kl\")"
   ]
  },
  {
   "cell_type": "code",
   "execution_count": null,
   "metadata": {},
   "outputs": [],
   "source": [
    "aa.set_parameters(max_episode_length=1000, replay_memory_size=100000, replay_start_size=10000,\n",
    "                  discount_factor=0.999, final_eps=0.01, annealing_steps=100000)"
   ]
  },
  {
   "cell_type": "code",
   "execution_count": null,
   "metadata": {
    "scrolled": true
   },
   "outputs": [
    {
     "name": "stdout",
     "output_type": "stream",
     "text": [
      "frame count: 5088\n",
      "average reward: -0.874\n",
      "epsilon: 0.95\n",
      "average lifetime: 10.176\n",
      "-------------------------------\n",
      "frame count: 12673\n",
      "average reward: -0.778\n",
      "epsilon: 0.875\n",
      "average lifetime: 15.17\n",
      "-------------------------------\n",
      "frame count: 23714\n",
      "average reward: -0.718\n",
      "epsilon: 0.765\n",
      "average lifetime: 22.082\n",
      "-------------------------------\n",
      "frame count: 37785\n",
      "average reward: -0.612\n",
      "epsilon: 0.626\n",
      "average lifetime: 28.142\n",
      "-------------------------------\n",
      "frame count: 63401\n",
      "average reward: -0.04\n",
      "epsilon: 0.372\n",
      "average lifetime: 51.232\n",
      "-------------------------------\n",
      "frame count: 92560\n",
      "average reward: 2.192\n",
      "epsilon: 0.084\n",
      "average lifetime: 58.318\n",
      "-------------------------------\n",
      "frame count: 138418\n",
      "average reward: 6.662\n",
      "epsilon: 0.01\n",
      "average lifetime: 91.716\n",
      "-------------------------------\n",
      "frame count: 220346\n",
      "average reward: 11.872\n",
      "epsilon: 0.01\n",
      "average lifetime: 163.856\n",
      "-------------------------------\n",
      "frame count: 309476\n",
      "average reward: 16.308\n",
      "epsilon: 0.01\n",
      "average lifetime: 178.26\n",
      "-------------------------------\n",
      "frame count: 413111\n",
      "average reward: 18.62\n",
      "epsilon: 0.01\n",
      "average lifetime: 207.27\n",
      "-------------------------------\n",
      "frame count: 549647\n",
      "average reward: 22.176\n",
      "epsilon: 0.01\n",
      "average lifetime: 273.072\n",
      "-------------------------------\n",
      "frame count: 713454\n",
      "average reward: 25.938\n",
      "epsilon: 0.01\n",
      "average lifetime: 327.614\n",
      "-------------------------------\n",
      "frame count: 919554\n",
      "average reward: 29.666\n",
      "epsilon: 0.01\n",
      "average lifetime: 412.2\n",
      "-------------------------------\n",
      "frame count: 1155376\n",
      "average reward: 32.9\n",
      "epsilon: 0.01\n",
      "average lifetime: 471.644\n",
      "-------------------------------\n",
      "frame count: 1409077\n",
      "average reward: 34.152\n",
      "epsilon: 0.01\n",
      "average lifetime: 507.402\n",
      "-------------------------------\n",
      "frame count: 1709987\n",
      "average reward: 38.824\n",
      "epsilon: 0.01\n",
      "average lifetime: 601.82\n",
      "-------------------------------\n"
     ]
    }
   ],
   "source": [
    "aa.train(gpu_id=6, exploration=\"boltzmann\", save_freq=1000000, max_num_epochs=50, tau=1e-3)"
   ]
  },
  {
   "cell_type": "code",
   "execution_count": null,
   "metadata": {},
   "outputs": [],
   "source": []
  }
 ],
 "metadata": {
  "kernelspec": {
   "display_name": "Python [default]",
   "language": "python",
   "name": "python3"
  },
  "language_info": {
   "codemirror_mode": {
    "name": "ipython",
    "version": 3
   },
   "file_extension": ".py",
   "mimetype": "text/x-python",
   "name": "python",
   "nbconvert_exporter": "python",
   "pygments_lexer": "ipython3",
   "version": "3.5.4"
  }
 },
 "nbformat": 4,
 "nbformat_minor": 2
}
