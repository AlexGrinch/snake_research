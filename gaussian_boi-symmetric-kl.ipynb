{
 "cells": [
  {
   "cell_type": "code",
   "execution_count": 1,
   "metadata": {},
   "outputs": [
    {
     "name": "stderr",
     "output_type": "stream",
     "text": [
      "/root/miniconda3/envs/tf/lib/python3.5/site-packages/h5py/__init__.py:36: FutureWarning: Conversion of the second argument of issubdtype from `float` to `np.floating` is deprecated. In future, it will be treated as `np.float64 == np.dtype(float).type`.\n",
      "  from ._conv import register_converters as _register_converters\n"
     ]
    },
    {
     "name": "stdout",
     "output_type": "stream",
     "text": [
      "WARNING:tensorflow:From /root/miniconda3/envs/tf/lib/python3.5/site-packages/tensorflow/contrib/learn/python/learn/datasets/base.py:198: retry (from tensorflow.contrib.learn.python.learn.datasets.base) is deprecated and will be removed in a future version.\n",
      "Instructions for updating:\n",
      "Use the retry module or similar alternatives.\n"
     ]
    }
   ],
   "source": [
    "import os\n",
    "import time\n",
    "import random\n",
    "import numpy as np\n",
    "\n",
    "import tensorflow as tf\n",
    "import tensorflow.contrib.layers as layers\n",
    "\n",
    "import gym\n",
    "from gym import spaces\n",
    "from PIL import Image\n",
    "from collections import deque, namedtuple\n",
    "\n",
    "from IPython import display\n",
    "import matplotlib.pyplot as plt\n",
    "%matplotlib inline"
   ]
  },
  {
   "cell_type": "code",
   "execution_count": 2,
   "metadata": {},
   "outputs": [],
   "source": [
    "from environments import Snake\n",
    "from new_agents import *"
   ]
  },
  {
   "cell_type": "code",
   "execution_count": 3,
   "metadata": {},
   "outputs": [],
   "source": [
    "env = Snake((8, 8))\n",
    "#aa = DuelDQNAgent(env=env, num_actions=3, state_shape=[8, 8, 5], \n",
    "#              save_path=\"snake_models\", model_name=\"test\")\n",
    "#aa = CatDQNAgent(env=env, num_actions=3, state_shape=[8, 8, 5], num_atoms=51,\n",
    "#                 save_path=\"snake_models\", model_name=\"test\")\n",
    "#aa = SACAgent(env=env, num_actions=3, temperature=0.05,\n",
    "#              save_path=\"snake_models\", model_name=\"test\")\n",
    "aa = GaussDQNAgent(env=env, num_actions=3, state_shape=[8, 8, 5],\n",
    "                   save_path=\"snake_models\", loss='symmetric_kl', model_name=\"test-gauss-boi-sym-kl-3sigma\")"
   ]
  },
  {
   "cell_type": "code",
   "execution_count": 4,
   "metadata": {},
   "outputs": [],
   "source": [
    "aa.set_parameters(max_episode_length=1000, replay_memory_size=100000, replay_start_size=10000,\n",
    "                  discount_factor=0.999, final_eps=0.01, annealing_steps=100000)"
   ]
  },
  {
   "cell_type": "code",
   "execution_count": null,
   "metadata": {
    "scrolled": true
   },
   "outputs": [
    {
     "name": "stdout",
     "output_type": "stream",
     "text": [
      "frame count: 5625\n",
      "average reward: -0.85\n",
      "epsilon: 0.944\n",
      "average lifetime: 11.25\n",
      "-------------------------------\n",
      "frame count: 13433\n",
      "average reward: -0.772\n",
      "epsilon: 0.867\n",
      "average lifetime: 15.616\n",
      "-------------------------------\n",
      "frame count: 24071\n",
      "average reward: -0.704\n",
      "epsilon: 0.762\n",
      "average lifetime: 21.276\n",
      "-------------------------------\n",
      "frame count: 38617\n",
      "average reward: -0.576\n",
      "epsilon: 0.618\n",
      "average lifetime: 29.092\n",
      "-------------------------------\n",
      "frame count: 67414\n",
      "average reward: 0.228\n",
      "epsilon: 0.333\n",
      "average lifetime: 57.594\n",
      "-------------------------------\n",
      "frame count: 95601\n",
      "average reward: 2.718\n",
      "epsilon: 0.054\n",
      "average lifetime: 56.374\n",
      "-------------------------------\n",
      "frame count: 148884\n",
      "average reward: 8.082\n",
      "epsilon: 0.01\n",
      "average lifetime: 106.566\n",
      "-------------------------------\n",
      "frame count: 246433\n",
      "average reward: 14.366\n",
      "epsilon: 0.01\n",
      "average lifetime: 195.098\n",
      "-------------------------------\n",
      "frame count: 353798\n",
      "average reward: 18.734\n",
      "epsilon: 0.01\n",
      "average lifetime: 214.73\n",
      "-------------------------------\n"
     ]
    }
   ],
   "source": [
    "aa.train(gpu_id=5, exploration=\"boltzmann\", save_freq=1000000, max_num_epochs=50, tau=1e-3)"
   ]
  },
  {
   "cell_type": "code",
   "execution_count": null,
   "metadata": {},
   "outputs": [],
   "source": []
  }
 ],
 "metadata": {
  "kernelspec": {
   "display_name": "Python [default]",
   "language": "python",
   "name": "python3"
  },
  "language_info": {
   "codemirror_mode": {
    "name": "ipython",
    "version": 3
   },
   "file_extension": ".py",
   "mimetype": "text/x-python",
   "name": "python",
   "nbconvert_exporter": "python",
   "pygments_lexer": "ipython3",
   "version": "3.5.4"
  }
 },
 "nbformat": 4,
 "nbformat_minor": 2
}
