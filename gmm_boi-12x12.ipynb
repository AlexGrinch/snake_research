{
 "cells": [
  {
   "cell_type": "code",
   "execution_count": 1,
   "metadata": {},
   "outputs": [
    {
     "name": "stderr",
     "output_type": "stream",
     "text": [
      "/root/miniconda3/envs/tf/lib/python3.5/site-packages/h5py/__init__.py:36: FutureWarning: Conversion of the second argument of issubdtype from `float` to `np.floating` is deprecated. In future, it will be treated as `np.float64 == np.dtype(float).type`.\n",
      "  from ._conv import register_converters as _register_converters\n"
     ]
    }
   ],
   "source": [
    "import os\n",
    "import time\n",
    "import random\n",
    "import numpy as np\n",
    "\n",
    "import tensorflow as tf\n",
    "import tensorflow.contrib.layers as layers\n",
    "\n",
    "import gym\n",
    "from gym import spaces\n",
    "from PIL import Image\n",
    "from collections import deque, namedtuple\n",
    "\n",
    "from IPython import display\n",
    "import matplotlib.pyplot as plt\n",
    "%matplotlib inline"
   ]
  },
  {
   "cell_type": "code",
   "execution_count": 2,
   "metadata": {},
   "outputs": [],
   "source": [
    "from environments import Snake\n",
    "from new_agents import *"
   ]
  },
  {
   "cell_type": "code",
   "execution_count": 3,
   "metadata": {},
   "outputs": [],
   "source": [
    "env = Snake((12, 12))\n",
    "#aa = DuelDQNAgent(env=env, num_actions=3, state_shape=[8, 8, 5], \n",
    "#              save_path=\"snake_models\", model_name=\"test\")\n",
    "#aa = CatDQNAgent(env=env, num_actions=3, state_shape=[8, 8, 5], num_atoms=51,\n",
    "#                 save_path=\"snake_models\", model_name=\"test\")\n",
    "#aa = SACAgent(env=env, num_actions=3, temperature=0.05,\n",
    "#              save_path=\"snake_models\", model_name=\"test\")\n",
    "aa = GMMDQNAgent(env=env, num_actions=3, state_shape=[12, 12, 5],\n",
    "                   save_path=\"snake_models\", model_name=\"test-big\")"
   ]
  },
  {
   "cell_type": "code",
   "execution_count": 4,
   "metadata": {},
   "outputs": [],
   "source": [
    "aa.set_parameters(max_episode_length=3500, replay_memory_size=100000, replay_start_size=10000,\n",
    "                  discount_factor=0.999, final_eps=0.01, annealing_steps=150000)"
   ]
  },
  {
   "cell_type": "code",
   "execution_count": null,
   "metadata": {
    "scrolled": true
   },
   "outputs": [
    {
     "name": "stdout",
     "output_type": "stream",
     "text": [
      "frame count: 8988\n",
      "average reward: -0.884\n",
      "epsilon: 0.941\n",
      "average lifetime: 17.976\n",
      "-------------------------------\n",
      "frame count: 21139\n",
      "average reward: -0.86\n",
      "epsilon: 0.86\n",
      "average lifetime: 24.302\n",
      "-------------------------------\n",
      "frame count: 39209\n",
      "average reward: -0.788\n",
      "epsilon: 0.741\n",
      "average lifetime: 36.14\n",
      "-------------------------------\n",
      "frame count: 68278\n",
      "average reward: -0.688\n",
      "epsilon: 0.549\n",
      "average lifetime: 58.138\n",
      "-------------------------------\n",
      "frame count: 343808\n",
      "average reward: 1.284\n",
      "epsilon: 0.01\n",
      "average lifetime: 551.06\n",
      "-------------------------------\n",
      "frame count: 610688\n",
      "average reward: 7.55\n",
      "epsilon: 0.01\n",
      "average lifetime: 533.76\n",
      "-------------------------------\n",
      "frame count: 801496\n",
      "average reward: 12.164\n",
      "epsilon: 0.01\n",
      "average lifetime: 381.616\n",
      "-------------------------------\n",
      "frame count: 1003816\n",
      "average reward: 15.946\n",
      "epsilon: 0.01\n",
      "average lifetime: 404.64\n",
      "-------------------------------\n",
      "frame count: 1234885\n",
      "average reward: 19.834\n",
      "epsilon: 0.01\n",
      "average lifetime: 462.138\n",
      "-------------------------------\n",
      "frame count: 1873727\n",
      "average reward: 31.25\n",
      "epsilon: 0.01\n",
      "average lifetime: 735.602\n",
      "-------------------------------\n"
     ]
    }
   ],
   "source": [
    "aa.train(gpu_id=7, exploration=\"boltzmann\", save_freq=1000000, max_num_epochs=1000, tau=1e-3, batch_size=32)"
   ]
  },
  {
   "cell_type": "code",
   "execution_count": null,
   "metadata": {
    "collapsed": true
   },
   "outputs": [],
   "source": []
  }
 ],
 "metadata": {
  "kernelspec": {
   "display_name": "Python [conda env:tf]",
   "language": "python",
   "name": "conda-env-tf-py"
  },
  "language_info": {
   "codemirror_mode": {
    "name": "ipython",
    "version": 3
   },
   "file_extension": ".py",
   "mimetype": "text/x-python",
   "name": "python",
   "nbconvert_exporter": "python",
   "pygments_lexer": "ipython3",
   "version": "3.5.4"
  }
 },
 "nbformat": 4,
 "nbformat_minor": 2
}
